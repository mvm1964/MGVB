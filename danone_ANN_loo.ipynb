{
  "nbformat": 4,
  "nbformat_minor": 0,
  "metadata": {
    "colab": {
      "provenance": [],
      "gpuType": "T4",
      "authorship_tag": "ABX9TyNLFLmfdKp4zBFU5Ka1JyUP",
      "include_colab_link": true
    },
    "kernelspec": {
      "name": "python3",
      "display_name": "Python 3"
    },
    "language_info": {
      "name": "python"
    },
    "accelerator": "GPU"
  },
  "cells": [
    {
      "cell_type": "markdown",
      "metadata": {
        "id": "view-in-github",
        "colab_type": "text"
      },
      "source": [
        "<a href=\"https://colab.research.google.com/github/mvm1964/MGVB/blob/main/danone_ANN_loo.ipynb\" target=\"_parent\"><img src=\"https://colab.research.google.com/assets/colab-badge.svg\" alt=\"Open In Colab\"/></a>"
      ]
    },
    {
      "cell_type": "code",
      "execution_count": 2,
      "metadata": {
        "colab": {
          "base_uri": "https://localhost:8080/"
        },
        "id": "l7XHGN0Bk7dP",
        "outputId": "8d86d6dc-2b47-4330-e2c4-efd4bce4cf17"
      },
      "outputs": [
        {
          "output_type": "stream",
          "name": "stdout",
          "text": [
            "Using cpu device\n"
          ]
        }
      ],
      "source": [
        "import os\n",
        "import torch\n",
        "from torch import nn\n",
        "from torch.utils.data import DataLoader\n",
        "from torchvision import datasets, transforms\n",
        "\n",
        "device = torch.device(\"cuda\" if torch.cuda.is_available() else \"cpu\")\n",
        "#device = torch.device(\"cpu\")\n",
        "print(f\"Using {device} device\")"
      ]
    },
    {
      "cell_type": "code",
      "source": [
        "# prompt: create a torch neural net class with two hided layers and a single continuous node in the output layer\n",
        "\n",
        "class NeuralNetwork(nn.Module):\n",
        "    def __init__(self, input_size, hidden_size1, hidden_size2, hidden_size3, hidden_size4):\n",
        "        super(NeuralNetwork, self).__init__()\n",
        "        self.flatten = nn.Flatten()\n",
        "        self.linear_relu_stack = nn.Sequential(\n",
        "            nn.Linear(input_size, hidden_size1),\n",
        "            nn.ReLU(),\n",
        "            nn.Linear(hidden_size1, hidden_size2),\n",
        "            nn.ReLU(),\n",
        "            nn.Linear(hidden_size2, hidden_size3),\n",
        "            nn.ReLU(),\n",
        "            nn.Linear(hidden_size3, hidden_size4),\n",
        "            nn.ReLU(),\n",
        "            nn.Linear(hidden_size4, 1) # Single continuous output node\n",
        "        )\n",
        "\n",
        "    def forward(self, x):\n",
        "        x = self.flatten(x)\n",
        "        logits = self.linear_relu_stack(x)\n",
        "        return logits\n"
      ],
      "metadata": {
        "id": "2a9tVqtzlCsU"
      },
      "execution_count": 3,
      "outputs": []
    },
    {
      "cell_type": "code",
      "source": [
        "# prompt: create pandas dataframe with 20 continuous columns and 1000 rows filled with random numbers from 0 to 1\n",
        "\n",
        "import pandas as pd\n",
        "import numpy as np\n",
        "from google.colab import drive\n",
        "drive.mount('/content/drive')\n",
        "\n",
        "# Create a DataFrame with 20 continuous columns and 1000 rows\n",
        "#data = np.random.rand(1000, 20)\n",
        "#df = pd.DataFrame(data)\n",
        "\n",
        "df = pd.read_csv('/content/drive/My Drive/rf_data_ingredients.csv')\n",
        "#df = pd.get_dummies(df.drop('barcode', axis=1), dtype=int)\n",
        "df = pd.get_dummies(df, dtype=int)\n",
        "df\n"
      ],
      "metadata": {
        "colab": {
          "base_uri": "https://localhost:8080/",
          "height": 448
        },
        "id": "UjkL4wBulzB7",
        "outputId": "c69501dd-b333-4b1e-eeaf-066993c710ad"
      },
      "execution_count": 4,
      "outputs": [
        {
          "output_type": "stream",
          "name": "stdout",
          "text": [
            "Mounted at /content/drive\n"
          ]
        },
        {
          "output_type": "execute_result",
          "data": {
            "text/plain": [
              "     new_ingr_data.avg_h  GOS.SYRUP  SUNFLOWER.OIL..HIGH.OLEIC.ACID.  \\\n",
              "0              10.000000  12.500000                         1.546670   \n",
              "1              31.666667  11.931231                         0.369676   \n",
              "2              35.185185  12.253610                         1.261299   \n",
              "3              50.076336   7.354657                        12.007250   \n",
              "4              35.000000   0.000000                         3.337473   \n",
              "..                   ...        ...                              ...   \n",
              "159            20.000000   7.354657                        12.007250   \n",
              "160             0.000000   0.000000                         0.000000   \n",
              "161             0.000000   0.000000                         0.000000   \n",
              "162            30.000000  16.539057                         5.308996   \n",
              "163            10.000000  16.000000                         2.597418   \n",
              "\n",
              "     CITRIC.ACID  SKIMMED.MILK.CONCENTRATE.26..NON.SEASONAL  \\\n",
              "0       0.000014                                  48.645120   \n",
              "1       0.000032                                  70.788155   \n",
              "2       0.000044                                  95.458320   \n",
              "3       0.000000                                  62.346861   \n",
              "4       0.000000                                   0.000000   \n",
              "..           ...                                        ...   \n",
              "159     0.000242                                   0.000000   \n",
              "160     0.004982                                   0.000000   \n",
              "161     0.004510                                   0.000000   \n",
              "162     0.000920                                   0.000000   \n",
              "163     0.000614                                   0.000000   \n",
              "\n",
              "     STARCH.POTATO.FRACTION..IMPROVED  VITAMIN.A.PALMITATE  \\\n",
              "0                               0.000             0.001145   \n",
              "1                               0.000             0.001417   \n",
              "2                               0.000             0.001460   \n",
              "3                               0.000             0.001182   \n",
              "4                               0.000             0.001253   \n",
              "..                                ...                  ...   \n",
              "159                             0.000             0.001182   \n",
              "160                            32.927             0.000000   \n",
              "161                            21.781             0.000000   \n",
              "162                             0.000             0.001532   \n",
              "163                             0.000             0.000970   \n",
              "\n",
              "     LACTOSE.EDIBLE.LOW.VIT.B2  CHOLINE.CHLORIDE  CALCIUM.CARBONATE.FINE  ...  \\\n",
              "0                    10.867080          0.159882                0.200342  ...   \n",
              "1                    20.818125          0.174619                0.264260  ...   \n",
              "2                    16.195573          0.198971                0.251635  ...   \n",
              "3                    21.587329          0.205011                0.000000  ...   \n",
              "4                     0.000000          0.217177                0.000000  ...   \n",
              "..                         ...               ...                     ...  ...   \n",
              "159                  21.587329          0.205011                0.000000  ...   \n",
              "160                   0.000000          0.000000                0.000000  ...   \n",
              "161                   0.000000          0.000000                0.000000  ...   \n",
              "162                   6.199546          0.035981                0.367103  ...   \n",
              "163                   5.442078          0.030585                0.009206  ...   \n",
              "\n",
              "     LACTOSE.EDIBLE.VITAMIN.B2  VITAMIN.B6..PIRIDOXIN.HYDROCHLORIDE.100..  \\\n",
              "0                          0.0                                   0.000317   \n",
              "1                          0.0                                   0.000355   \n",
              "2                          0.0                                   0.000353   \n",
              "3                          0.0                                   0.000511   \n",
              "4                          0.0                                   0.000358   \n",
              "..                         ...                                        ...   \n",
              "159                        0.0                                   0.000511   \n",
              "160                        0.0                                   0.000000   \n",
              "161                        0.0                                   0.133871   \n",
              "162                        0.0                                   0.000735   \n",
              "163                        0.0                                   0.000736   \n",
              "\n",
              "     COPPER.SULPHATE.PENTAHYDRATE  new_ingr_data.Supply.point_FULDA  \\\n",
              "0                        0.000000                                 1   \n",
              "1                        0.000000                                 1   \n",
              "2                        0.000000                                 1   \n",
              "3                        0.000000                                 1   \n",
              "4                        0.000000                                 1   \n",
              "..                            ...                               ...   \n",
              "159                      0.003214                                 0   \n",
              "160                      0.050606                                 0   \n",
              "161                      0.025234                                 0   \n",
              "162                      0.000000                                 0   \n",
              "163                      0.000000                                 0   \n",
              "\n",
              "     new_ingr_data.Supply.point_HAPS  new_ingr_data.Supply.point_MCR1  \\\n",
              "0                                  0                                0   \n",
              "1                                  0                                0   \n",
              "2                                  0                                0   \n",
              "3                                  0                                0   \n",
              "4                                  0                                0   \n",
              "..                               ...                              ...   \n",
              "159                                0                                0   \n",
              "160                                0                                0   \n",
              "161                                0                                0   \n",
              "162                                0                                0   \n",
              "163                                0                                0   \n",
              "\n",
              "     new_ingr_data.Supply.point_MCR2  new_ingr_data.Supply.point_OPO  \\\n",
              "0                                  0                               0   \n",
              "1                                  0                               0   \n",
              "2                                  0                               0   \n",
              "3                                  0                               0   \n",
              "4                                  0                               0   \n",
              "..                               ...                             ...   \n",
              "159                                0                               0   \n",
              "160                                0                               0   \n",
              "161                                0                               0   \n",
              "162                                0                               0   \n",
              "163                                0                               0   \n",
              "\n",
              "     new_ingr_data.Supply.point_STV  new_ingr_data.Supply.point_WXF  \n",
              "0                                 0                               0  \n",
              "1                                 0                               0  \n",
              "2                                 0                               0  \n",
              "3                                 0                               0  \n",
              "4                                 0                               0  \n",
              "..                              ...                             ...  \n",
              "159                               0                               1  \n",
              "160                               0                               1  \n",
              "161                               0                               1  \n",
              "162                               0                               1  \n",
              "163                               0                               1  \n",
              "\n",
              "[164 rows x 67 columns]"
            ],
            "text/html": [
              "\n",
              "  <div id=\"df-8733ee65-4ffc-4293-835a-1d98848b2c16\" class=\"colab-df-container\">\n",
              "    <div>\n",
              "<style scoped>\n",
              "    .dataframe tbody tr th:only-of-type {\n",
              "        vertical-align: middle;\n",
              "    }\n",
              "\n",
              "    .dataframe tbody tr th {\n",
              "        vertical-align: top;\n",
              "    }\n",
              "\n",
              "    .dataframe thead th {\n",
              "        text-align: right;\n",
              "    }\n",
              "</style>\n",
              "<table border=\"1\" class=\"dataframe\">\n",
              "  <thead>\n",
              "    <tr style=\"text-align: right;\">\n",
              "      <th></th>\n",
              "      <th>new_ingr_data.avg_h</th>\n",
              "      <th>GOS.SYRUP</th>\n",
              "      <th>SUNFLOWER.OIL..HIGH.OLEIC.ACID.</th>\n",
              "      <th>CITRIC.ACID</th>\n",
              "      <th>SKIMMED.MILK.CONCENTRATE.26..NON.SEASONAL</th>\n",
              "      <th>STARCH.POTATO.FRACTION..IMPROVED</th>\n",
              "      <th>VITAMIN.A.PALMITATE</th>\n",
              "      <th>LACTOSE.EDIBLE.LOW.VIT.B2</th>\n",
              "      <th>CHOLINE.CHLORIDE</th>\n",
              "      <th>CALCIUM.CARBONATE.FINE</th>\n",
              "      <th>...</th>\n",
              "      <th>LACTOSE.EDIBLE.VITAMIN.B2</th>\n",
              "      <th>VITAMIN.B6..PIRIDOXIN.HYDROCHLORIDE.100..</th>\n",
              "      <th>COPPER.SULPHATE.PENTAHYDRATE</th>\n",
              "      <th>new_ingr_data.Supply.point_FULDA</th>\n",
              "      <th>new_ingr_data.Supply.point_HAPS</th>\n",
              "      <th>new_ingr_data.Supply.point_MCR1</th>\n",
              "      <th>new_ingr_data.Supply.point_MCR2</th>\n",
              "      <th>new_ingr_data.Supply.point_OPO</th>\n",
              "      <th>new_ingr_data.Supply.point_STV</th>\n",
              "      <th>new_ingr_data.Supply.point_WXF</th>\n",
              "    </tr>\n",
              "  </thead>\n",
              "  <tbody>\n",
              "    <tr>\n",
              "      <th>0</th>\n",
              "      <td>10.000000</td>\n",
              "      <td>12.500000</td>\n",
              "      <td>1.546670</td>\n",
              "      <td>0.000014</td>\n",
              "      <td>48.645120</td>\n",
              "      <td>0.000</td>\n",
              "      <td>0.001145</td>\n",
              "      <td>10.867080</td>\n",
              "      <td>0.159882</td>\n",
              "      <td>0.200342</td>\n",
              "      <td>...</td>\n",
              "      <td>0.0</td>\n",
              "      <td>0.000317</td>\n",
              "      <td>0.000000</td>\n",
              "      <td>1</td>\n",
              "      <td>0</td>\n",
              "      <td>0</td>\n",
              "      <td>0</td>\n",
              "      <td>0</td>\n",
              "      <td>0</td>\n",
              "      <td>0</td>\n",
              "    </tr>\n",
              "    <tr>\n",
              "      <th>1</th>\n",
              "      <td>31.666667</td>\n",
              "      <td>11.931231</td>\n",
              "      <td>0.369676</td>\n",
              "      <td>0.000032</td>\n",
              "      <td>70.788155</td>\n",
              "      <td>0.000</td>\n",
              "      <td>0.001417</td>\n",
              "      <td>20.818125</td>\n",
              "      <td>0.174619</td>\n",
              "      <td>0.264260</td>\n",
              "      <td>...</td>\n",
              "      <td>0.0</td>\n",
              "      <td>0.000355</td>\n",
              "      <td>0.000000</td>\n",
              "      <td>1</td>\n",
              "      <td>0</td>\n",
              "      <td>0</td>\n",
              "      <td>0</td>\n",
              "      <td>0</td>\n",
              "      <td>0</td>\n",
              "      <td>0</td>\n",
              "    </tr>\n",
              "    <tr>\n",
              "      <th>2</th>\n",
              "      <td>35.185185</td>\n",
              "      <td>12.253610</td>\n",
              "      <td>1.261299</td>\n",
              "      <td>0.000044</td>\n",
              "      <td>95.458320</td>\n",
              "      <td>0.000</td>\n",
              "      <td>0.001460</td>\n",
              "      <td>16.195573</td>\n",
              "      <td>0.198971</td>\n",
              "      <td>0.251635</td>\n",
              "      <td>...</td>\n",
              "      <td>0.0</td>\n",
              "      <td>0.000353</td>\n",
              "      <td>0.000000</td>\n",
              "      <td>1</td>\n",
              "      <td>0</td>\n",
              "      <td>0</td>\n",
              "      <td>0</td>\n",
              "      <td>0</td>\n",
              "      <td>0</td>\n",
              "      <td>0</td>\n",
              "    </tr>\n",
              "    <tr>\n",
              "      <th>3</th>\n",
              "      <td>50.076336</td>\n",
              "      <td>7.354657</td>\n",
              "      <td>12.007250</td>\n",
              "      <td>0.000000</td>\n",
              "      <td>62.346861</td>\n",
              "      <td>0.000</td>\n",
              "      <td>0.001182</td>\n",
              "      <td>21.587329</td>\n",
              "      <td>0.205011</td>\n",
              "      <td>0.000000</td>\n",
              "      <td>...</td>\n",
              "      <td>0.0</td>\n",
              "      <td>0.000511</td>\n",
              "      <td>0.000000</td>\n",
              "      <td>1</td>\n",
              "      <td>0</td>\n",
              "      <td>0</td>\n",
              "      <td>0</td>\n",
              "      <td>0</td>\n",
              "      <td>0</td>\n",
              "      <td>0</td>\n",
              "    </tr>\n",
              "    <tr>\n",
              "      <th>4</th>\n",
              "      <td>35.000000</td>\n",
              "      <td>0.000000</td>\n",
              "      <td>3.337473</td>\n",
              "      <td>0.000000</td>\n",
              "      <td>0.000000</td>\n",
              "      <td>0.000</td>\n",
              "      <td>0.001253</td>\n",
              "      <td>0.000000</td>\n",
              "      <td>0.217177</td>\n",
              "      <td>0.000000</td>\n",
              "      <td>...</td>\n",
              "      <td>0.0</td>\n",
              "      <td>0.000358</td>\n",
              "      <td>0.000000</td>\n",
              "      <td>1</td>\n",
              "      <td>0</td>\n",
              "      <td>0</td>\n",
              "      <td>0</td>\n",
              "      <td>0</td>\n",
              "      <td>0</td>\n",
              "      <td>0</td>\n",
              "    </tr>\n",
              "    <tr>\n",
              "      <th>...</th>\n",
              "      <td>...</td>\n",
              "      <td>...</td>\n",
              "      <td>...</td>\n",
              "      <td>...</td>\n",
              "      <td>...</td>\n",
              "      <td>...</td>\n",
              "      <td>...</td>\n",
              "      <td>...</td>\n",
              "      <td>...</td>\n",
              "      <td>...</td>\n",
              "      <td>...</td>\n",
              "      <td>...</td>\n",
              "      <td>...</td>\n",
              "      <td>...</td>\n",
              "      <td>...</td>\n",
              "      <td>...</td>\n",
              "      <td>...</td>\n",
              "      <td>...</td>\n",
              "      <td>...</td>\n",
              "      <td>...</td>\n",
              "      <td>...</td>\n",
              "    </tr>\n",
              "    <tr>\n",
              "      <th>159</th>\n",
              "      <td>20.000000</td>\n",
              "      <td>7.354657</td>\n",
              "      <td>12.007250</td>\n",
              "      <td>0.000242</td>\n",
              "      <td>0.000000</td>\n",
              "      <td>0.000</td>\n",
              "      <td>0.001182</td>\n",
              "      <td>21.587329</td>\n",
              "      <td>0.205011</td>\n",
              "      <td>0.000000</td>\n",
              "      <td>...</td>\n",
              "      <td>0.0</td>\n",
              "      <td>0.000511</td>\n",
              "      <td>0.003214</td>\n",
              "      <td>0</td>\n",
              "      <td>0</td>\n",
              "      <td>0</td>\n",
              "      <td>0</td>\n",
              "      <td>0</td>\n",
              "      <td>0</td>\n",
              "      <td>1</td>\n",
              "    </tr>\n",
              "    <tr>\n",
              "      <th>160</th>\n",
              "      <td>0.000000</td>\n",
              "      <td>0.000000</td>\n",
              "      <td>0.000000</td>\n",
              "      <td>0.004982</td>\n",
              "      <td>0.000000</td>\n",
              "      <td>32.927</td>\n",
              "      <td>0.000000</td>\n",
              "      <td>0.000000</td>\n",
              "      <td>0.000000</td>\n",
              "      <td>0.000000</td>\n",
              "      <td>...</td>\n",
              "      <td>0.0</td>\n",
              "      <td>0.000000</td>\n",
              "      <td>0.050606</td>\n",
              "      <td>0</td>\n",
              "      <td>0</td>\n",
              "      <td>0</td>\n",
              "      <td>0</td>\n",
              "      <td>0</td>\n",
              "      <td>0</td>\n",
              "      <td>1</td>\n",
              "    </tr>\n",
              "    <tr>\n",
              "      <th>161</th>\n",
              "      <td>0.000000</td>\n",
              "      <td>0.000000</td>\n",
              "      <td>0.000000</td>\n",
              "      <td>0.004510</td>\n",
              "      <td>0.000000</td>\n",
              "      <td>21.781</td>\n",
              "      <td>0.000000</td>\n",
              "      <td>0.000000</td>\n",
              "      <td>0.000000</td>\n",
              "      <td>0.000000</td>\n",
              "      <td>...</td>\n",
              "      <td>0.0</td>\n",
              "      <td>0.133871</td>\n",
              "      <td>0.025234</td>\n",
              "      <td>0</td>\n",
              "      <td>0</td>\n",
              "      <td>0</td>\n",
              "      <td>0</td>\n",
              "      <td>0</td>\n",
              "      <td>0</td>\n",
              "      <td>1</td>\n",
              "    </tr>\n",
              "    <tr>\n",
              "      <th>162</th>\n",
              "      <td>30.000000</td>\n",
              "      <td>16.539057</td>\n",
              "      <td>5.308996</td>\n",
              "      <td>0.000920</td>\n",
              "      <td>0.000000</td>\n",
              "      <td>0.000</td>\n",
              "      <td>0.001532</td>\n",
              "      <td>6.199546</td>\n",
              "      <td>0.035981</td>\n",
              "      <td>0.367103</td>\n",
              "      <td>...</td>\n",
              "      <td>0.0</td>\n",
              "      <td>0.000735</td>\n",
              "      <td>0.000000</td>\n",
              "      <td>0</td>\n",
              "      <td>0</td>\n",
              "      <td>0</td>\n",
              "      <td>0</td>\n",
              "      <td>0</td>\n",
              "      <td>0</td>\n",
              "      <td>1</td>\n",
              "    </tr>\n",
              "    <tr>\n",
              "      <th>163</th>\n",
              "      <td>10.000000</td>\n",
              "      <td>16.000000</td>\n",
              "      <td>2.597418</td>\n",
              "      <td>0.000614</td>\n",
              "      <td>0.000000</td>\n",
              "      <td>0.000</td>\n",
              "      <td>0.000970</td>\n",
              "      <td>5.442078</td>\n",
              "      <td>0.030585</td>\n",
              "      <td>0.009206</td>\n",
              "      <td>...</td>\n",
              "      <td>0.0</td>\n",
              "      <td>0.000736</td>\n",
              "      <td>0.000000</td>\n",
              "      <td>0</td>\n",
              "      <td>0</td>\n",
              "      <td>0</td>\n",
              "      <td>0</td>\n",
              "      <td>0</td>\n",
              "      <td>0</td>\n",
              "      <td>1</td>\n",
              "    </tr>\n",
              "  </tbody>\n",
              "</table>\n",
              "<p>164 rows × 67 columns</p>\n",
              "</div>\n",
              "    <div class=\"colab-df-buttons\">\n",
              "\n",
              "  <div class=\"colab-df-container\">\n",
              "    <button class=\"colab-df-convert\" onclick=\"convertToInteractive('df-8733ee65-4ffc-4293-835a-1d98848b2c16')\"\n",
              "            title=\"Convert this dataframe to an interactive table.\"\n",
              "            style=\"display:none;\">\n",
              "\n",
              "  <svg xmlns=\"http://www.w3.org/2000/svg\" height=\"24px\" viewBox=\"0 -960 960 960\">\n",
              "    <path d=\"M120-120v-720h720v720H120Zm60-500h600v-160H180v160Zm220 220h160v-160H400v160Zm0 220h160v-160H400v160ZM180-400h160v-160H180v160Zm440 0h160v-160H620v160ZM180-180h160v-160H180v160Zm440 0h160v-160H620v160Z\"/>\n",
              "  </svg>\n",
              "    </button>\n",
              "\n",
              "  <style>\n",
              "    .colab-df-container {\n",
              "      display:flex;\n",
              "      gap: 12px;\n",
              "    }\n",
              "\n",
              "    .colab-df-convert {\n",
              "      background-color: #E8F0FE;\n",
              "      border: none;\n",
              "      border-radius: 50%;\n",
              "      cursor: pointer;\n",
              "      display: none;\n",
              "      fill: #1967D2;\n",
              "      height: 32px;\n",
              "      padding: 0 0 0 0;\n",
              "      width: 32px;\n",
              "    }\n",
              "\n",
              "    .colab-df-convert:hover {\n",
              "      background-color: #E2EBFA;\n",
              "      box-shadow: 0px 1px 2px rgba(60, 64, 67, 0.3), 0px 1px 3px 1px rgba(60, 64, 67, 0.15);\n",
              "      fill: #174EA6;\n",
              "    }\n",
              "\n",
              "    .colab-df-buttons div {\n",
              "      margin-bottom: 4px;\n",
              "    }\n",
              "\n",
              "    [theme=dark] .colab-df-convert {\n",
              "      background-color: #3B4455;\n",
              "      fill: #D2E3FC;\n",
              "    }\n",
              "\n",
              "    [theme=dark] .colab-df-convert:hover {\n",
              "      background-color: #434B5C;\n",
              "      box-shadow: 0px 1px 3px 1px rgba(0, 0, 0, 0.15);\n",
              "      filter: drop-shadow(0px 1px 2px rgba(0, 0, 0, 0.3));\n",
              "      fill: #FFFFFF;\n",
              "    }\n",
              "  </style>\n",
              "\n",
              "    <script>\n",
              "      const buttonEl =\n",
              "        document.querySelector('#df-8733ee65-4ffc-4293-835a-1d98848b2c16 button.colab-df-convert');\n",
              "      buttonEl.style.display =\n",
              "        google.colab.kernel.accessAllowed ? 'block' : 'none';\n",
              "\n",
              "      async function convertToInteractive(key) {\n",
              "        const element = document.querySelector('#df-8733ee65-4ffc-4293-835a-1d98848b2c16');\n",
              "        const dataTable =\n",
              "          await google.colab.kernel.invokeFunction('convertToInteractive',\n",
              "                                                    [key], {});\n",
              "        if (!dataTable) return;\n",
              "\n",
              "        const docLinkHtml = 'Like what you see? Visit the ' +\n",
              "          '<a target=\"_blank\" href=https://colab.research.google.com/notebooks/data_table.ipynb>data table notebook</a>'\n",
              "          + ' to learn more about interactive tables.';\n",
              "        element.innerHTML = '';\n",
              "        dataTable['output_type'] = 'display_data';\n",
              "        await google.colab.output.renderOutput(dataTable, element);\n",
              "        const docLink = document.createElement('div');\n",
              "        docLink.innerHTML = docLinkHtml;\n",
              "        element.appendChild(docLink);\n",
              "      }\n",
              "    </script>\n",
              "  </div>\n",
              "\n",
              "\n",
              "<div id=\"df-e3324da4-1266-4301-b68b-b287c2aa0598\">\n",
              "  <button class=\"colab-df-quickchart\" onclick=\"quickchart('df-e3324da4-1266-4301-b68b-b287c2aa0598')\"\n",
              "            title=\"Suggest charts\"\n",
              "            style=\"display:none;\">\n",
              "\n",
              "<svg xmlns=\"http://www.w3.org/2000/svg\" height=\"24px\"viewBox=\"0 0 24 24\"\n",
              "     width=\"24px\">\n",
              "    <g>\n",
              "        <path d=\"M19 3H5c-1.1 0-2 .9-2 2v14c0 1.1.9 2 2 2h14c1.1 0 2-.9 2-2V5c0-1.1-.9-2-2-2zM9 17H7v-7h2v7zm4 0h-2V7h2v10zm4 0h-2v-4h2v4z\"/>\n",
              "    </g>\n",
              "</svg>\n",
              "  </button>\n",
              "\n",
              "<style>\n",
              "  .colab-df-quickchart {\n",
              "      --bg-color: #E8F0FE;\n",
              "      --fill-color: #1967D2;\n",
              "      --hover-bg-color: #E2EBFA;\n",
              "      --hover-fill-color: #174EA6;\n",
              "      --disabled-fill-color: #AAA;\n",
              "      --disabled-bg-color: #DDD;\n",
              "  }\n",
              "\n",
              "  [theme=dark] .colab-df-quickchart {\n",
              "      --bg-color: #3B4455;\n",
              "      --fill-color: #D2E3FC;\n",
              "      --hover-bg-color: #434B5C;\n",
              "      --hover-fill-color: #FFFFFF;\n",
              "      --disabled-bg-color: #3B4455;\n",
              "      --disabled-fill-color: #666;\n",
              "  }\n",
              "\n",
              "  .colab-df-quickchart {\n",
              "    background-color: var(--bg-color);\n",
              "    border: none;\n",
              "    border-radius: 50%;\n",
              "    cursor: pointer;\n",
              "    display: none;\n",
              "    fill: var(--fill-color);\n",
              "    height: 32px;\n",
              "    padding: 0;\n",
              "    width: 32px;\n",
              "  }\n",
              "\n",
              "  .colab-df-quickchart:hover {\n",
              "    background-color: var(--hover-bg-color);\n",
              "    box-shadow: 0 1px 2px rgba(60, 64, 67, 0.3), 0 1px 3px 1px rgba(60, 64, 67, 0.15);\n",
              "    fill: var(--button-hover-fill-color);\n",
              "  }\n",
              "\n",
              "  .colab-df-quickchart-complete:disabled,\n",
              "  .colab-df-quickchart-complete:disabled:hover {\n",
              "    background-color: var(--disabled-bg-color);\n",
              "    fill: var(--disabled-fill-color);\n",
              "    box-shadow: none;\n",
              "  }\n",
              "\n",
              "  .colab-df-spinner {\n",
              "    border: 2px solid var(--fill-color);\n",
              "    border-color: transparent;\n",
              "    border-bottom-color: var(--fill-color);\n",
              "    animation:\n",
              "      spin 1s steps(1) infinite;\n",
              "  }\n",
              "\n",
              "  @keyframes spin {\n",
              "    0% {\n",
              "      border-color: transparent;\n",
              "      border-bottom-color: var(--fill-color);\n",
              "      border-left-color: var(--fill-color);\n",
              "    }\n",
              "    20% {\n",
              "      border-color: transparent;\n",
              "      border-left-color: var(--fill-color);\n",
              "      border-top-color: var(--fill-color);\n",
              "    }\n",
              "    30% {\n",
              "      border-color: transparent;\n",
              "      border-left-color: var(--fill-color);\n",
              "      border-top-color: var(--fill-color);\n",
              "      border-right-color: var(--fill-color);\n",
              "    }\n",
              "    40% {\n",
              "      border-color: transparent;\n",
              "      border-right-color: var(--fill-color);\n",
              "      border-top-color: var(--fill-color);\n",
              "    }\n",
              "    60% {\n",
              "      border-color: transparent;\n",
              "      border-right-color: var(--fill-color);\n",
              "    }\n",
              "    80% {\n",
              "      border-color: transparent;\n",
              "      border-right-color: var(--fill-color);\n",
              "      border-bottom-color: var(--fill-color);\n",
              "    }\n",
              "    90% {\n",
              "      border-color: transparent;\n",
              "      border-bottom-color: var(--fill-color);\n",
              "    }\n",
              "  }\n",
              "</style>\n",
              "\n",
              "  <script>\n",
              "    async function quickchart(key) {\n",
              "      const quickchartButtonEl =\n",
              "        document.querySelector('#' + key + ' button');\n",
              "      quickchartButtonEl.disabled = true;  // To prevent multiple clicks.\n",
              "      quickchartButtonEl.classList.add('colab-df-spinner');\n",
              "      try {\n",
              "        const charts = await google.colab.kernel.invokeFunction(\n",
              "            'suggestCharts', [key], {});\n",
              "      } catch (error) {\n",
              "        console.error('Error during call to suggestCharts:', error);\n",
              "      }\n",
              "      quickchartButtonEl.classList.remove('colab-df-spinner');\n",
              "      quickchartButtonEl.classList.add('colab-df-quickchart-complete');\n",
              "    }\n",
              "    (() => {\n",
              "      let quickchartButtonEl =\n",
              "        document.querySelector('#df-e3324da4-1266-4301-b68b-b287c2aa0598 button');\n",
              "      quickchartButtonEl.style.display =\n",
              "        google.colab.kernel.accessAllowed ? 'block' : 'none';\n",
              "    })();\n",
              "  </script>\n",
              "</div>\n",
              "\n",
              "  <div id=\"id_e08c3afb-934a-4b0b-a774-b909ff6033d5\">\n",
              "    <style>\n",
              "      .colab-df-generate {\n",
              "        background-color: #E8F0FE;\n",
              "        border: none;\n",
              "        border-radius: 50%;\n",
              "        cursor: pointer;\n",
              "        display: none;\n",
              "        fill: #1967D2;\n",
              "        height: 32px;\n",
              "        padding: 0 0 0 0;\n",
              "        width: 32px;\n",
              "      }\n",
              "\n",
              "      .colab-df-generate:hover {\n",
              "        background-color: #E2EBFA;\n",
              "        box-shadow: 0px 1px 2px rgba(60, 64, 67, 0.3), 0px 1px 3px 1px rgba(60, 64, 67, 0.15);\n",
              "        fill: #174EA6;\n",
              "      }\n",
              "\n",
              "      [theme=dark] .colab-df-generate {\n",
              "        background-color: #3B4455;\n",
              "        fill: #D2E3FC;\n",
              "      }\n",
              "\n",
              "      [theme=dark] .colab-df-generate:hover {\n",
              "        background-color: #434B5C;\n",
              "        box-shadow: 0px 1px 3px 1px rgba(0, 0, 0, 0.15);\n",
              "        filter: drop-shadow(0px 1px 2px rgba(0, 0, 0, 0.3));\n",
              "        fill: #FFFFFF;\n",
              "      }\n",
              "    </style>\n",
              "    <button class=\"colab-df-generate\" onclick=\"generateWithVariable('df')\"\n",
              "            title=\"Generate code using this dataframe.\"\n",
              "            style=\"display:none;\">\n",
              "\n",
              "  <svg xmlns=\"http://www.w3.org/2000/svg\" height=\"24px\"viewBox=\"0 0 24 24\"\n",
              "       width=\"24px\">\n",
              "    <path d=\"M7,19H8.4L18.45,9,17,7.55,7,17.6ZM5,21V16.75L18.45,3.32a2,2,0,0,1,2.83,0l1.4,1.43a1.91,1.91,0,0,1,.58,1.4,1.91,1.91,0,0,1-.58,1.4L9.25,21ZM18.45,9,17,7.55Zm-12,3A5.31,5.31,0,0,0,4.9,8.1,5.31,5.31,0,0,0,1,6.5,5.31,5.31,0,0,0,4.9,4.9,5.31,5.31,0,0,0,6.5,1,5.31,5.31,0,0,0,8.1,4.9,5.31,5.31,0,0,0,12,6.5,5.46,5.46,0,0,0,6.5,12Z\"/>\n",
              "  </svg>\n",
              "    </button>\n",
              "    <script>\n",
              "      (() => {\n",
              "      const buttonEl =\n",
              "        document.querySelector('#id_e08c3afb-934a-4b0b-a774-b909ff6033d5 button.colab-df-generate');\n",
              "      buttonEl.style.display =\n",
              "        google.colab.kernel.accessAllowed ? 'block' : 'none';\n",
              "\n",
              "      buttonEl.onclick = () => {\n",
              "        google.colab.notebook.generateWithVariable('df');\n",
              "      }\n",
              "      })();\n",
              "    </script>\n",
              "  </div>\n",
              "\n",
              "    </div>\n",
              "  </div>\n"
            ],
            "application/vnd.google.colaboratory.intrinsic+json": {
              "type": "dataframe",
              "variable_name": "df"
            }
          },
          "metadata": {},
          "execution_count": 4
        }
      ]
    },
    {
      "cell_type": "markdown",
      "source": [],
      "metadata": {
        "id": "4KNROUfhJh5U"
      }
    },
    {
      "cell_type": "code",
      "source": [
        "model = NeuralNetwork(input_size=66, hidden_size1=66, hidden_size2=32, hidden_size3=16, hidden_size4=8).to(device)\n",
        "print(model)"
      ],
      "metadata": {
        "colab": {
          "base_uri": "https://localhost:8080/"
        },
        "id": "CDdnInroyWHV",
        "outputId": "e1dd0e93-dcc8-467e-8b39-caa4b6a34763"
      },
      "execution_count": 57,
      "outputs": [
        {
          "output_type": "stream",
          "name": "stdout",
          "text": [
            "NeuralNetwork(\n",
            "  (flatten): Flatten(start_dim=1, end_dim=-1)\n",
            "  (linear_relu_stack): Sequential(\n",
            "    (0): Linear(in_features=66, out_features=66, bias=True)\n",
            "    (1): ReLU()\n",
            "    (2): Linear(in_features=66, out_features=32, bias=True)\n",
            "    (3): ReLU()\n",
            "    (4): Linear(in_features=32, out_features=16, bias=True)\n",
            "    (5): ReLU()\n",
            "    (6): Linear(in_features=16, out_features=8, bias=True)\n",
            "    (7): ReLU()\n",
            "    (8): Linear(in_features=8, out_features=1, bias=True)\n",
            "  )\n",
            ")\n"
          ]
        }
      ]
    },
    {
      "cell_type": "code",
      "source": [
        "# Read data, convert to NumPy arrays\n",
        "X = df.iloc[:, 1:68].values\n",
        "y = df.iloc[:, 0].values\n",
        "\n",
        "#device = torch.device(\"cpu\")\n",
        "\n",
        "# convert into PyTorch tensors\n",
        "X = torch.tensor(X, dtype=torch.float32, device=device)\n",
        "y = torch.tensor(y, dtype=torch.float32, device=device).reshape(-1, 1)\n",
        "\n",
        "# create DataLoader, then take one batch\n",
        "#loader = DataLoader(list(zip(X,y)), shuffle=True, batch_size=8)\n",
        "\n"
      ],
      "metadata": {
        "id": "ukHdYBxo1jPQ"
      },
      "execution_count": 58,
      "outputs": []
    },
    {
      "cell_type": "code",
      "source": [
        "import torch.optim as optim\n",
        "from sklearn.model_selection import train_test_split\n",
        "# train-test split for evaluation of the model\n",
        "X_train, X_test, y_train, y_test = train_test_split(X, y, train_size=0.85, shuffle=True, random_state=123)\n",
        "\n",
        "# set up DataLoader for training set\n",
        "loader = DataLoader(list(zip(X_train, y_train)), shuffle=True, batch_size=16)\n"
      ],
      "metadata": {
        "id": "jxPNSpKU9HrR"
      },
      "execution_count": 95,
      "outputs": []
    },
    {
      "cell_type": "code",
      "source": [
        "# train\n",
        "n_epochs = 300\n",
        "loss_fn = nn.MSELoss()\n",
        "#optimizer = optim.SGD(model.parameters(), lr=0.1)\n",
        "optimizer = optim.Adam(model.parameters(), lr=0.00001)\n",
        "model.train()\n",
        "for epoch in range(n_epochs):\n",
        "    for X_batch, y_batch in loader:\n",
        "        y_pred = model(X_batch)\n",
        "        loss = loss_fn(y_pred, y_batch)\n",
        "        optimizer.zero_grad()\n",
        "        loss.backward()\n",
        "        optimizer.step()\n",
        "\n",
        "# evaluate accuracy after training\n",
        "model.eval()\n",
        "y_pred = model(X_test)\n",
        "\n"
      ],
      "metadata": {
        "id": "LPgsPWpp-0eb"
      },
      "execution_count": 96,
      "outputs": []
    },
    {
      "cell_type": "code",
      "source": [
        "from sklearn.metrics import r2_score\n",
        "y_t = y_test.cpu()\n",
        "y_p = y_pred.cpu()\n",
        "r2 = r2_score(y_t.detach().numpy(), y_p.detach().numpy())\n",
        "print(\"R^2 score: %.2f\" % r2)\n",
        "\n",
        "#acc = (y_pred.round() == y_test).float().mean()\n",
        "#acc = float(acc)\n",
        "#print(\"Model accuracy: %.2f%%\" % (acc*100))"
      ],
      "metadata": {
        "colab": {
          "base_uri": "https://localhost:8080/"
        },
        "id": "0VnbolvO-6ki",
        "outputId": "6d5bcedf-69bf-4981-a816-2ec6efa88096"
      },
      "execution_count": 97,
      "outputs": [
        {
          "output_type": "stream",
          "name": "stdout",
          "text": [
            "R^2 score: 0.98\n"
          ]
        }
      ]
    },
    {
      "cell_type": "code",
      "source": [
        "# prompt: plot predicted versus observed values of the above ANN model and save the plot to png file on Drive\n",
        "\n",
        "import matplotlib.pyplot as plt\n",
        "\n",
        "# Assuming y_t and y_p are already defined from the previous code\n",
        "plt.figure(figsize=(8, 6))\n",
        "plt.scatter(y_t.detach().numpy(), y_p.detach().numpy(), alpha=0.5)\n",
        "plt.xlabel('Observed Values')\n",
        "plt.ylabel('Predicted Values')\n",
        "plt.title('Predicted vs Observed Values')\n",
        "plt.plot([y_t.min(), y_t.max()], [y_t.min(), y_t.max()], 'k--', lw=2) # Add a diagonal line\n",
        "plt.grid(True)\n",
        "\n",
        "# Save the plot to Google Drive\n",
        "#plt.savefig('/content/drive/My Drive/CUDA/foam_height_predicted_vs_observed_correct_70split242split.png')\n",
        "\n",
        "plt.show()\n"
      ],
      "metadata": {
        "id": "MMY6YE97yUvk",
        "colab": {
          "base_uri": "https://localhost:8080/",
          "height": 563
        },
        "outputId": "fa14f273-6a95-4425-8979-776232115942"
      },
      "execution_count": 98,
      "outputs": [
        {
          "output_type": "display_data",
          "data": {
            "text/plain": [
              "<Figure size 800x600 with 1 Axes>"
            ],
            "image/png": "[encoded data removed]"
          },
          "metadata": {}
        }
      ]
    },
    {
      "cell_type": "code",
      "source": [
        "# prompt: save model for use later\n",
        "\n",
        "# Save the model's state_dict()\n",
        "torch.save(model.state_dict(), '/content/drive/My Drive/CUDA/danone_my_model.pth')\n",
        "\n",
        "# Later, to load the model:\n",
        "# model = NeuralNetwork(input_size=65, hidden_size1=7, hidden_size2=7, hidden_size3=7, hidden_size4=7).to(device)\n",
        "# model.load_state_dict(torch.load('/content/drive/My Drive/CUDA/my_model.pth'))\n",
        "# model.eval()\n"
      ],
      "metadata": {
        "id": "GCTBjsQC3Qlc"
      },
      "execution_count": null,
      "outputs": []
    },
    {
      "cell_type": "code",
      "source": [
        "# prompt: execute 5-fold crossvalidation of model\n",
        "\n",
        "from sklearn.model_selection import KFold\n",
        "import numpy as np\n",
        "\n",
        "# Assuming X and y are your data and labels\n",
        "# X and y should be numpy arrays or lists\n",
        "kf = KFold(n_splits=5, shuffle=True, random_state=123) # Define the KFold object\n",
        "r2_scores = []\n",
        "\n",
        "for fold, (train_index, test_index) in enumerate(kf.split(X)):\n",
        "    print(f\"Fold {fold+1}\")\n",
        "    X_train, X_test = X[train_index], X[test_index]\n",
        "    y_train, y_test = y[train_index], y[test_index]\n",
        "\n",
        "    # Convert to PyTorch tensors for each fold\n",
        "    X_train_tensor = torch.tensor(X_train, dtype=torch.float32, device=device)\n",
        "    y_train_tensor = torch.tensor(y_train, dtype=torch.float32, device=device).reshape(-1, 1)\n",
        "    X_test_tensor = torch.tensor(X_test, dtype=torch.float32, device=device)\n",
        "    y_test_tensor = torch.tensor(y_test, dtype=torch.float32, device=device).reshape(-1, 1)\n",
        "\n",
        "    # Create a new model instance for each fold\n",
        "    model = NeuralNetwork(input_size=66, hidden_size1=66, hidden_size2=32, hidden_size3=16, hidden_size4=8).to(device)\n",
        "    optimizer = optim.Adam(model.parameters(), lr=0.00001) # Re-initialize optimizer\n",
        "\n",
        "    # Training loop for the current fold\n",
        "    model.train()\n",
        "    for epoch in range(n_epochs):\n",
        "        # Use DataLoader with tensors for the current fold\n",
        "        loader = DataLoader(list(zip(X_train_tensor, y_train_tensor)), shuffle=True, batch_size=16)\n",
        "        for X_batch, y_batch in loader:\n",
        "            y_pred = model(X_batch)\n",
        "            loss = loss_fn(y_pred, y_batch)\n",
        "            optimizer.zero_grad()\n",
        "            loss.backward()\n",
        "            optimizer.step()\n",
        "\n",
        "    # Evaluate on the test set for the current fold\n",
        "    model.eval()\n",
        "    y_pred = model(X_test_tensor)\n",
        "    y_t = y_test_tensor.cpu()\n",
        "    y_p = y_pred.cpu()\n",
        "\n",
        "    r2 = r2_score(y_t.detach().numpy(), y_p.detach().numpy())\n",
        "    r2_scores.append(r2)\n",
        "    print(f\"R^2 score for fold {fold+1}: {r2}\")\n",
        "\n",
        "print(f\"Mean R^2 score across all folds: {np.mean(r2_scores)}\")\n",
        "\n"
      ],
      "metadata": {
        "colab": {
          "base_uri": "https://localhost:8080/"
        },
        "id": "D2eK--shI8kD",
        "outputId": "300e80da-7dcd-426e-c485-e880200039ca"
      },
      "execution_count": 102,
      "outputs": [
        {
          "output_type": "stream",
          "name": "stdout",
          "text": [
            "Fold 1\n"
          ]
        },
        {
          "output_type": "stream",
          "name": "stderr",
          "text": [
            "<ipython-input-102-e8b02554dc92>:17: UserWarning: To copy construct from a tensor, it is recommended to use sourceTensor.clone().detach() or sourceTensor.clone().detach().requires_grad_(True), rather than torch.tensor(sourceTensor).\n",
            "  X_train_tensor = torch.tensor(X_train, dtype=torch.float32, device=device)\n",
            "<ipython-input-102-e8b02554dc92>:18: UserWarning: To copy construct from a tensor, it is recommended to use sourceTensor.clone().detach() or sourceTensor.clone().detach().requires_grad_(True), rather than torch.tensor(sourceTensor).\n",
            "  y_train_tensor = torch.tensor(y_train, dtype=torch.float32, device=device).reshape(-1, 1)\n",
            "<ipython-input-102-e8b02554dc92>:19: UserWarning: To copy construct from a tensor, it is recommended to use sourceTensor.clone().detach() or sourceTensor.clone().detach().requires_grad_(True), rather than torch.tensor(sourceTensor).\n",
            "  X_test_tensor = torch.tensor(X_test, dtype=torch.float32, device=device)\n",
            "<ipython-input-102-e8b02554dc92>:20: UserWarning: To copy construct from a tensor, it is recommended to use sourceTensor.clone().detach() or sourceTensor.clone().detach().requires_grad_(True), rather than torch.tensor(sourceTensor).\n",
            "  y_test_tensor = torch.tensor(y_test, dtype=torch.float32, device=device).reshape(-1, 1)\n"
          ]
        },
        {
          "output_type": "stream",
          "name": "stdout",
          "text": [
            "R^2 score for fold 1: -1.7057170867919922\n",
            "Fold 2\n"
          ]
        },
        {
          "output_type": "stream",
          "name": "stderr",
          "text": [
            "<ipython-input-102-e8b02554dc92>:17: UserWarning: To copy construct from a tensor, it is recommended to use sourceTensor.clone().detach() or sourceTensor.clone().detach().requires_grad_(True), rather than torch.tensor(sourceTensor).\n",
            "  X_train_tensor = torch.tensor(X_train, dtype=torch.float32, device=device)\n",
            "<ipython-input-102-e8b02554dc92>:18: UserWarning: To copy construct from a tensor, it is recommended to use sourceTensor.clone().detach() or sourceTensor.clone().detach().requires_grad_(True), rather than torch.tensor(sourceTensor).\n",
            "  y_train_tensor = torch.tensor(y_train, dtype=torch.float32, device=device).reshape(-1, 1)\n",
            "<ipython-input-102-e8b02554dc92>:19: UserWarning: To copy construct from a tensor, it is recommended to use sourceTensor.clone().detach() or sourceTensor.clone().detach().requires_grad_(True), rather than torch.tensor(sourceTensor).\n",
            "  X_test_tensor = torch.tensor(X_test, dtype=torch.float32, device=device)\n",
            "<ipython-input-102-e8b02554dc92>:20: UserWarning: To copy construct from a tensor, it is recommended to use sourceTensor.clone().detach() or sourceTensor.clone().detach().requires_grad_(True), rather than torch.tensor(sourceTensor).\n",
            "  y_test_tensor = torch.tensor(y_test, dtype=torch.float32, device=device).reshape(-1, 1)\n"
          ]
        },
        {
          "output_type": "stream",
          "name": "stdout",
          "text": [
            "R^2 score for fold 2: -1.0455377101898193\n",
            "Fold 3\n"
          ]
        },
        {
          "output_type": "stream",
          "name": "stderr",
          "text": [
            "<ipython-input-102-e8b02554dc92>:17: UserWarning: To copy construct from a tensor, it is recommended to use sourceTensor.clone().detach() or sourceTensor.clone().detach().requires_grad_(True), rather than torch.tensor(sourceTensor).\n",
            "  X_train_tensor = torch.tensor(X_train, dtype=torch.float32, device=device)\n",
            "<ipython-input-102-e8b02554dc92>:18: UserWarning: To copy construct from a tensor, it is recommended to use sourceTensor.clone().detach() or sourceTensor.clone().detach().requires_grad_(True), rather than torch.tensor(sourceTensor).\n",
            "  y_train_tensor = torch.tensor(y_train, dtype=torch.float32, device=device).reshape(-1, 1)\n",
            "<ipython-input-102-e8b02554dc92>:19: UserWarning: To copy construct from a tensor, it is recommended to use sourceTensor.clone().detach() or sourceTensor.clone().detach().requires_grad_(True), rather than torch.tensor(sourceTensor).\n",
            "  X_test_tensor = torch.tensor(X_test, dtype=torch.float32, device=device)\n",
            "<ipython-input-102-e8b02554dc92>:20: UserWarning: To copy construct from a tensor, it is recommended to use sourceTensor.clone().detach() or sourceTensor.clone().detach().requires_grad_(True), rather than torch.tensor(sourceTensor).\n",
            "  y_test_tensor = torch.tensor(y_test, dtype=torch.float32, device=device).reshape(-1, 1)\n"
          ]
        },
        {
          "output_type": "stream",
          "name": "stdout",
          "text": [
            "R^2 score for fold 3: -1.142322301864624\n",
            "Fold 4\n"
          ]
        },
        {
          "output_type": "stream",
          "name": "stderr",
          "text": [
            "<ipython-input-102-e8b02554dc92>:17: UserWarning: To copy construct from a tensor, it is recommended to use sourceTensor.clone().detach() or sourceTensor.clone().detach().requires_grad_(True), rather than torch.tensor(sourceTensor).\n",
            "  X_train_tensor = torch.tensor(X_train, dtype=torch.float32, device=device)\n",
            "<ipython-input-102-e8b02554dc92>:18: UserWarning: To copy construct from a tensor, it is recommended to use sourceTensor.clone().detach() or sourceTensor.clone().detach().requires_grad_(True), rather than torch.tensor(sourceTensor).\n",
            "  y_train_tensor = torch.tensor(y_train, dtype=torch.float32, device=device).reshape(-1, 1)\n",
            "<ipython-input-102-e8b02554dc92>:19: UserWarning: To copy construct from a tensor, it is recommended to use sourceTensor.clone().detach() or sourceTensor.clone().detach().requires_grad_(True), rather than torch.tensor(sourceTensor).\n",
            "  X_test_tensor = torch.tensor(X_test, dtype=torch.float32, device=device)\n",
            "<ipython-input-102-e8b02554dc92>:20: UserWarning: To copy construct from a tensor, it is recommended to use sourceTensor.clone().detach() or sourceTensor.clone().detach().requires_grad_(True), rather than torch.tensor(sourceTensor).\n",
            "  y_test_tensor = torch.tensor(y_test, dtype=torch.float32, device=device).reshape(-1, 1)\n"
          ]
        },
        {
          "output_type": "stream",
          "name": "stdout",
          "text": [
            "R^2 score for fold 4: -1.8703441619873047\n",
            "Fold 5\n"
          ]
        },
        {
          "output_type": "stream",
          "name": "stderr",
          "text": [
            "<ipython-input-102-e8b02554dc92>:17: UserWarning: To copy construct from a tensor, it is recommended to use sourceTensor.clone().detach() or sourceTensor.clone().detach().requires_grad_(True), rather than torch.tensor(sourceTensor).\n",
            "  X_train_tensor = torch.tensor(X_train, dtype=torch.float32, device=device)\n",
            "<ipython-input-102-e8b02554dc92>:18: UserWarning: To copy construct from a tensor, it is recommended to use sourceTensor.clone().detach() or sourceTensor.clone().detach().requires_grad_(True), rather than torch.tensor(sourceTensor).\n",
            "  y_train_tensor = torch.tensor(y_train, dtype=torch.float32, device=device).reshape(-1, 1)\n",
            "<ipython-input-102-e8b02554dc92>:19: UserWarning: To copy construct from a tensor, it is recommended to use sourceTensor.clone().detach() or sourceTensor.clone().detach().requires_grad_(True), rather than torch.tensor(sourceTensor).\n",
            "  X_test_tensor = torch.tensor(X_test, dtype=torch.float32, device=device)\n",
            "<ipython-input-102-e8b02554dc92>:20: UserWarning: To copy construct from a tensor, it is recommended to use sourceTensor.clone().detach() or sourceTensor.clone().detach().requires_grad_(True), rather than torch.tensor(sourceTensor).\n",
            "  y_test_tensor = torch.tensor(y_test, dtype=torch.float32, device=device).reshape(-1, 1)\n"
          ]
        },
        {
          "output_type": "stream",
          "name": "stdout",
          "text": [
            "R^2 score for fold 5: -0.8063271045684814\n",
            "Mean R^2 score across all folds: -1.3140496730804443\n"
          ]
        }
      ]
    },
    {
      "cell_type": "code",
      "source": [
        "# Leave one out crossvalidation\n",
        "pred = []\n",
        "for i in range(len(df)):\n",
        "  df_tmp = df.drop(i)\n",
        "\n",
        "  X = df_tmp.iloc[:, 1:68].values\n",
        "  y = df_tmp.iloc[:, 0].values\n",
        "\n",
        "  #device = torch.device(\"cpu\")\n",
        "\n",
        "  # convert into PyTorch tensors\n",
        "  X = torch.tensor(X, dtype=torch.float32, device=device)\n",
        "  y = torch.tensor(y, dtype=torch.float32, device=device).reshape(-1, 1)\n",
        "\n",
        "  #X_train, X_test, y_train, y_test = train_test_split(X, y, train_size=0.75, shuffle=True, random_state=42)\n",
        "  X_train = X\n",
        "  y_train = y\n",
        "  X_test = torch.tensor(df.iloc[i, 1:], dtype=torch.float32, device=device).reshape(1, -1)\n",
        "  y_test = df.iloc[i, 0].reshape(1, -1)\n",
        "\n",
        "  # set up DataLoader for training set\n",
        "  loader = DataLoader(list(zip(X_train, y_train)), shuffle=True, batch_size=16)\n",
        "\n",
        "  n_epochs = 300\n",
        "  loss_fn = nn.MSELoss()\n",
        "  #optimizer = optim.SGD(model.parameters(), lr=0.1)\n",
        "  optimizer = optim.Adam(model.parameters(), lr=0.00001)\n",
        "  model.train()\n",
        "  for epoch in range(n_epochs):\n",
        "      for X_batch, y_batch in loader:\n",
        "          y_pred = model(X_batch)\n",
        "          loss = loss_fn(y_pred, y_batch)\n",
        "          optimizer.zero_grad()\n",
        "          loss.backward()\n",
        "          optimizer.step()\n",
        "\n",
        "  # evaluate accuracy after training\n",
        "  model.eval()\n",
        "  pred_tmp = model(X_test)\n",
        "  pred_tmp_1 = pred_tmp.cpu()\n",
        "  pred.append(pred_tmp_1.detach().numpy())\n",
        "  print(f\"Finished iteration {i}\\npred = {pred[i]}, obs = {df.iloc[i, 0]}.\")\n",
        "\n",
        "\n",
        "\n"
      ],
      "metadata": {
        "colab": {
          "base_uri": "https://localhost:8080/"
        },
        "id": "6Z5FMgAOEkJW",
        "outputId": "7e165fc7-bc58-46a4-fda7-f58bd92828b7"
      },
      "execution_count": 108,
      "outputs": [
        {
          "output_type": "stream",
          "name": "stderr",
          "text": [
            "<ipython-input-108-fa33ee5f3a23>:18: FutureWarning: Series.__getitem__ treating keys as positions is deprecated. In a future version, integer keys will always be treated as labels (consistent with DataFrame behavior). To access a value by position, use `ser.iloc[pos]`\n",
            "  X_test = torch.tensor(df.iloc[i, 1:], dtype=torch.float32, device=device).reshape(1, -1)\n"
          ]
        },
        {
          "output_type": "stream",
          "name": "stdout",
          "text": [
            "Finished iteration 0\n",
            "pred = [[22.948816]], obs = 10.0.\n"
          ]
        },
        {
          "output_type": "stream",
          "name": "stderr",
          "text": [
            "<ipython-input-108-fa33ee5f3a23>:18: FutureWarning: Series.__getitem__ treating keys as positions is deprecated. In a future version, integer keys will always be treated as labels (consistent with DataFrame behavior). To access a value by position, use `ser.iloc[pos]`\n",
            "  X_test = torch.tensor(df.iloc[i, 1:], dtype=torch.float32, device=device).reshape(1, -1)\n"
          ]
        },
        {
          "output_type": "stream",
          "name": "stdout",
          "text": [
            "Finished iteration 1\n",
            "pred = [[29.702911]], obs = 31.6666666666667.\n"
          ]
        },
        {
          "output_type": "stream",
          "name": "stderr",
          "text": [
            "<ipython-input-108-fa33ee5f3a23>:18: FutureWarning: Series.__getitem__ treating keys as positions is deprecated. In a future version, integer keys will always be treated as labels (consistent with DataFrame behavior). To access a value by position, use `ser.iloc[pos]`\n",
            "  X_test = torch.tensor(df.iloc[i, 1:], dtype=torch.float32, device=device).reshape(1, -1)\n"
          ]
        },
        {
          "output_type": "stream",
          "name": "stdout",
          "text": [
            "Finished iteration 2\n",
            "pred = [[35.486973]], obs = 35.1851851851852.\n"
          ]
        },
        {
          "output_type": "stream",
          "name": "stderr",
          "text": [
            "<ipython-input-108-fa33ee5f3a23>:18: FutureWarning: Series.__getitem__ treating keys as positions is deprecated. In a future version, integer keys will always be treated as labels (consistent with DataFrame behavior). To access a value by position, use `ser.iloc[pos]`\n",
            "  X_test = torch.tensor(df.iloc[i, 1:], dtype=torch.float32, device=device).reshape(1, -1)\n"
          ]
        },
        {
          "output_type": "stream",
          "name": "stdout",
          "text": [
            "Finished iteration 3\n",
            "pred = [[36.766193]], obs = 50.0763358778626.\n"
          ]
        },
        {
          "output_type": "stream",
          "name": "stderr",
          "text": [
            "<ipython-input-108-fa33ee5f3a23>:18: FutureWarning: Series.__getitem__ treating keys as positions is deprecated. In a future version, integer keys will always be treated as labels (consistent with DataFrame behavior). To access a value by position, use `ser.iloc[pos]`\n",
            "  X_test = torch.tensor(df.iloc[i, 1:], dtype=torch.float32, device=device).reshape(1, -1)\n"
          ]
        },
        {
          "output_type": "stream",
          "name": "stdout",
          "text": [
            "Finished iteration 4\n",
            "pred = [[23.677101]], obs = 35.0.\n"
          ]
        },
        {
          "output_type": "stream",
          "name": "stderr",
          "text": [
            "<ipython-input-108-fa33ee5f3a23>:18: FutureWarning: Series.__getitem__ treating keys as positions is deprecated. In a future version, integer keys will always be treated as labels (consistent with DataFrame behavior). To access a value by position, use `ser.iloc[pos]`\n",
            "  X_test = torch.tensor(df.iloc[i, 1:], dtype=torch.float32, device=device).reshape(1, -1)\n"
          ]
        },
        {
          "output_type": "stream",
          "name": "stdout",
          "text": [
            "Finished iteration 5\n",
            "pred = [[41.91807]], obs = 47.5.\n"
          ]
        },
        {
          "output_type": "stream",
          "name": "stderr",
          "text": [
            "<ipython-input-108-fa33ee5f3a23>:18: FutureWarning: Series.__getitem__ treating keys as positions is deprecated. In a future version, integer keys will always be treated as labels (consistent with DataFrame behavior). To access a value by position, use `ser.iloc[pos]`\n",
            "  X_test = torch.tensor(df.iloc[i, 1:], dtype=torch.float32, device=device).reshape(1, -1)\n"
          ]
        },
        {
          "output_type": "stream",
          "name": "stdout",
          "text": [
            "Finished iteration 6\n",
            "pred = [[44.758846]], obs = 52.4324324324324.\n"
          ]
        },
        {
          "output_type": "stream",
          "name": "stderr",
          "text": [
            "<ipython-input-108-fa33ee5f3a23>:18: FutureWarning: Series.__getitem__ treating keys as positions is deprecated. In a future version, integer keys will always be treated as labels (consistent with DataFrame behavior). To access a value by position, use `ser.iloc[pos]`\n",
            "  X_test = torch.tensor(df.iloc[i, 1:], dtype=torch.float32, device=device).reshape(1, -1)\n"
          ]
        },
        {
          "output_type": "stream",
          "name": "stdout",
          "text": [
            "Finished iteration 7\n",
            "pred = [[44.540386]], obs = 48.6666666666667.\n"
          ]
        },
        {
          "output_type": "stream",
          "name": "stderr",
          "text": [
            "<ipython-input-108-fa33ee5f3a23>:18: FutureWarning: Series.__getitem__ treating keys as positions is deprecated. In a future version, integer keys will always be treated as labels (consistent with DataFrame behavior). To access a value by position, use `ser.iloc[pos]`\n",
            "  X_test = torch.tensor(df.iloc[i, 1:], dtype=torch.float32, device=device).reshape(1, -1)\n"
          ]
        },
        {
          "output_type": "stream",
          "name": "stdout",
          "text": [
            "Finished iteration 8\n",
            "pred = [[36.403336]], obs = 35.5555555555556.\n"
          ]
        },
        {
          "output_type": "stream",
          "name": "stderr",
          "text": [
            "<ipython-input-108-fa33ee5f3a23>:18: FutureWarning: Series.__getitem__ treating keys as positions is deprecated. In a future version, integer keys will always be treated as labels (consistent with DataFrame behavior). To access a value by position, use `ser.iloc[pos]`\n",
            "  X_test = torch.tensor(df.iloc[i, 1:], dtype=torch.float32, device=device).reshape(1, -1)\n"
          ]
        },
        {
          "output_type": "stream",
          "name": "stdout",
          "text": [
            "Finished iteration 9\n",
            "pred = [[42.070316]], obs = 51.1111111111111.\n"
          ]
        },
        {
          "output_type": "stream",
          "name": "stderr",
          "text": [
            "<ipython-input-108-fa33ee5f3a23>:18: FutureWarning: Series.__getitem__ treating keys as positions is deprecated. In a future version, integer keys will always be treated as labels (consistent with DataFrame behavior). To access a value by position, use `ser.iloc[pos]`\n",
            "  X_test = torch.tensor(df.iloc[i, 1:], dtype=torch.float32, device=device).reshape(1, -1)\n"
          ]
        },
        {
          "output_type": "stream",
          "name": "stdout",
          "text": [
            "Finished iteration 10\n",
            "pred = [[30.481852]], obs = 35.0980392156863.\n"
          ]
        },
        {
          "output_type": "stream",
          "name": "stderr",
          "text": [
            "<ipython-input-108-fa33ee5f3a23>:18: FutureWarning: Series.__getitem__ treating keys as positions is deprecated. In a future version, integer keys will always be treated as labels (consistent with DataFrame behavior). To access a value by position, use `ser.iloc[pos]`\n",
            "  X_test = torch.tensor(df.iloc[i, 1:], dtype=torch.float32, device=device).reshape(1, -1)\n"
          ]
        },
        {
          "output_type": "stream",
          "name": "stdout",
          "text": [
            "Finished iteration 11\n",
            "pred = [[32.991653]], obs = 39.1071428571429.\n"
          ]
        },
        {
          "output_type": "stream",
          "name": "stderr",
          "text": [
            "<ipython-input-108-fa33ee5f3a23>:18: FutureWarning: Series.__getitem__ treating keys as positions is deprecated. In a future version, integer keys will always be treated as labels (consistent with DataFrame behavior). To access a value by position, use `ser.iloc[pos]`\n",
            "  X_test = torch.tensor(df.iloc[i, 1:], dtype=torch.float32, device=device).reshape(1, -1)\n"
          ]
        },
        {
          "output_type": "stream",
          "name": "stdout",
          "text": [
            "Finished iteration 12\n",
            "pred = [[47.70544]], obs = 43.8095238095238.\n"
          ]
        },
        {
          "output_type": "stream",
          "name": "stderr",
          "text": [
            "<ipython-input-108-fa33ee5f3a23>:18: FutureWarning: Series.__getitem__ treating keys as positions is deprecated. In a future version, integer keys will always be treated as labels (consistent with DataFrame behavior). To access a value by position, use `ser.iloc[pos]`\n",
            "  X_test = torch.tensor(df.iloc[i, 1:], dtype=torch.float32, device=device).reshape(1, -1)\n"
          ]
        },
        {
          "output_type": "stream",
          "name": "stdout",
          "text": [
            "Finished iteration 13\n",
            "pred = [[26.287004]], obs = 25.1388888888889.\n"
          ]
        },
        {
          "output_type": "stream",
          "name": "stderr",
          "text": [
            "<ipython-input-108-fa33ee5f3a23>:18: FutureWarning: Series.__getitem__ treating keys as positions is deprecated. In a future version, integer keys will always be treated as labels (consistent with DataFrame behavior). To access a value by position, use `ser.iloc[pos]`\n",
            "  X_test = torch.tensor(df.iloc[i, 1:], dtype=torch.float32, device=device).reshape(1, -1)\n"
          ]
        },
        {
          "output_type": "stream",
          "name": "stdout",
          "text": [
            "Finished iteration 14\n",
            "pred = [[33.051807]], obs = 46.6666666666667.\n"
          ]
        },
        {
          "output_type": "stream",
          "name": "stderr",
          "text": [
            "<ipython-input-108-fa33ee5f3a23>:18: FutureWarning: Series.__getitem__ treating keys as positions is deprecated. In a future version, integer keys will always be treated as labels (consistent with DataFrame behavior). To access a value by position, use `ser.iloc[pos]`\n",
            "  X_test = torch.tensor(df.iloc[i, 1:], dtype=torch.float32, device=device).reshape(1, -1)\n"
          ]
        },
        {
          "output_type": "stream",
          "name": "stdout",
          "text": [
            "Finished iteration 15\n",
            "pred = [[38.972588]], obs = 43.75.\n"
          ]
        },
        {
          "output_type": "stream",
          "name": "stderr",
          "text": [
            "<ipython-input-108-fa33ee5f3a23>:18: FutureWarning: Series.__getitem__ treating keys as positions is deprecated. In a future version, integer keys will always be treated as labels (consistent with DataFrame behavior). To access a value by position, use `ser.iloc[pos]`\n",
            "  X_test = torch.tensor(df.iloc[i, 1:], dtype=torch.float32, device=device).reshape(1, -1)\n"
          ]
        },
        {
          "output_type": "stream",
          "name": "stdout",
          "text": [
            "Finished iteration 16\n",
            "pred = [[49.862278]], obs = 45.8823529411765.\n"
          ]
        },
        {
          "output_type": "stream",
          "name": "stderr",
          "text": [
            "<ipython-input-108-fa33ee5f3a23>:18: FutureWarning: Series.__getitem__ treating keys as positions is deprecated. In a future version, integer keys will always be treated as labels (consistent with DataFrame behavior). To access a value by position, use `ser.iloc[pos]`\n",
            "  X_test = torch.tensor(df.iloc[i, 1:], dtype=torch.float32, device=device).reshape(1, -1)\n"
          ]
        },
        {
          "output_type": "stream",
          "name": "stdout",
          "text": [
            "Finished iteration 17\n",
            "pred = [[34.03013]], obs = 50.0.\n"
          ]
        },
        {
          "output_type": "stream",
          "name": "stderr",
          "text": [
            "<ipython-input-108-fa33ee5f3a23>:18: FutureWarning: Series.__getitem__ treating keys as positions is deprecated. In a future version, integer keys will always be treated as labels (consistent with DataFrame behavior). To access a value by position, use `ser.iloc[pos]`\n",
            "  X_test = torch.tensor(df.iloc[i, 1:], dtype=torch.float32, device=device).reshape(1, -1)\n"
          ]
        },
        {
          "output_type": "stream",
          "name": "stdout",
          "text": [
            "Finished iteration 18\n",
            "pred = [[36.137516]], obs = 52.8125.\n"
          ]
        },
        {
          "output_type": "stream",
          "name": "stderr",
          "text": [
            "<ipython-input-108-fa33ee5f3a23>:18: FutureWarning: Series.__getitem__ treating keys as positions is deprecated. In a future version, integer keys will always be treated as labels (consistent with DataFrame behavior). To access a value by position, use `ser.iloc[pos]`\n",
            "  X_test = torch.tensor(df.iloc[i, 1:], dtype=torch.float32, device=device).reshape(1, -1)\n"
          ]
        },
        {
          "output_type": "stream",
          "name": "stdout",
          "text": [
            "Finished iteration 19\n",
            "pred = [[36.1118]], obs = 24.2105263157895.\n"
          ]
        },
        {
          "output_type": "stream",
          "name": "stderr",
          "text": [
            "<ipython-input-108-fa33ee5f3a23>:18: FutureWarning: Series.__getitem__ treating keys as positions is deprecated. In a future version, integer keys will always be treated as labels (consistent with DataFrame behavior). To access a value by position, use `ser.iloc[pos]`\n",
            "  X_test = torch.tensor(df.iloc[i, 1:], dtype=torch.float32, device=device).reshape(1, -1)\n"
          ]
        },
        {
          "output_type": "stream",
          "name": "stdout",
          "text": [
            "Finished iteration 20\n",
            "pred = [[39.34979]], obs = 28.9423076923077.\n"
          ]
        },
        {
          "output_type": "stream",
          "name": "stderr",
          "text": [
            "<ipython-input-108-fa33ee5f3a23>:18: FutureWarning: Series.__getitem__ treating keys as positions is deprecated. In a future version, integer keys will always be treated as labels (consistent with DataFrame behavior). To access a value by position, use `ser.iloc[pos]`\n",
            "  X_test = torch.tensor(df.iloc[i, 1:], dtype=torch.float32, device=device).reshape(1, -1)\n"
          ]
        },
        {
          "output_type": "stream",
          "name": "stdout",
          "text": [
            "Finished iteration 21\n",
            "pred = [[42.076607]], obs = 35.5333333333333.\n"
          ]
        },
        {
          "output_type": "stream",
          "name": "stderr",
          "text": [
            "<ipython-input-108-fa33ee5f3a23>:18: FutureWarning: Series.__getitem__ treating keys as positions is deprecated. In a future version, integer keys will always be treated as labels (consistent with DataFrame behavior). To access a value by position, use `ser.iloc[pos]`\n",
            "  X_test = torch.tensor(df.iloc[i, 1:], dtype=torch.float32, device=device).reshape(1, -1)\n"
          ]
        },
        {
          "output_type": "stream",
          "name": "stdout",
          "text": [
            "Finished iteration 22\n",
            "pred = [[45.014095]], obs = 43.4027777777778.\n"
          ]
        },
        {
          "output_type": "stream",
          "name": "stderr",
          "text": [
            "<ipython-input-108-fa33ee5f3a23>:18: FutureWarning: Series.__getitem__ treating keys as positions is deprecated. In a future version, integer keys will always be treated as labels (consistent with DataFrame behavior). To access a value by position, use `ser.iloc[pos]`\n",
            "  X_test = torch.tensor(df.iloc[i, 1:], dtype=torch.float32, device=device).reshape(1, -1)\n"
          ]
        },
        {
          "output_type": "stream",
          "name": "stdout",
          "text": [
            "Finished iteration 23\n",
            "pred = [[39.096493]], obs = 39.8241206030151.\n"
          ]
        },
        {
          "output_type": "stream",
          "name": "stderr",
          "text": [
            "<ipython-input-108-fa33ee5f3a23>:18: FutureWarning: Series.__getitem__ treating keys as positions is deprecated. In a future version, integer keys will always be treated as labels (consistent with DataFrame behavior). To access a value by position, use `ser.iloc[pos]`\n",
            "  X_test = torch.tensor(df.iloc[i, 1:], dtype=torch.float32, device=device).reshape(1, -1)\n"
          ]
        },
        {
          "output_type": "stream",
          "name": "stdout",
          "text": [
            "Finished iteration 24\n",
            "pred = [[35.59122]], obs = 32.752808988764.\n"
          ]
        },
        {
          "output_type": "stream",
          "name": "stderr",
          "text": [
            "<ipython-input-108-fa33ee5f3a23>:18: FutureWarning: Series.__getitem__ treating keys as positions is deprecated. In a future version, integer keys will always be treated as labels (consistent with DataFrame behavior). To access a value by position, use `ser.iloc[pos]`\n",
            "  X_test = torch.tensor(df.iloc[i, 1:], dtype=torch.float32, device=device).reshape(1, -1)\n"
          ]
        },
        {
          "output_type": "stream",
          "name": "stdout",
          "text": [
            "Finished iteration 25\n",
            "pred = [[34.00432]], obs = 27.3809523809524.\n"
          ]
        },
        {
          "output_type": "stream",
          "name": "stderr",
          "text": [
            "<ipython-input-108-fa33ee5f3a23>:18: FutureWarning: Series.__getitem__ treating keys as positions is deprecated. In a future version, integer keys will always be treated as labels (consistent with DataFrame behavior). To access a value by position, use `ser.iloc[pos]`\n",
            "  X_test = torch.tensor(df.iloc[i, 1:], dtype=torch.float32, device=device).reshape(1, -1)\n"
          ]
        },
        {
          "output_type": "stream",
          "name": "stdout",
          "text": [
            "Finished iteration 26\n",
            "pred = [[36.062454]], obs = 39.4859813084112.\n"
          ]
        },
        {
          "output_type": "stream",
          "name": "stderr",
          "text": [
            "<ipython-input-108-fa33ee5f3a23>:18: FutureWarning: Series.__getitem__ treating keys as positions is deprecated. In a future version, integer keys will always be treated as labels (consistent with DataFrame behavior). To access a value by position, use `ser.iloc[pos]`\n",
            "  X_test = torch.tensor(df.iloc[i, 1:], dtype=torch.float32, device=device).reshape(1, -1)\n"
          ]
        },
        {
          "output_type": "stream",
          "name": "stdout",
          "text": [
            "Finished iteration 27\n",
            "pred = [[51.19619]], obs = 53.9097744360902.\n"
          ]
        },
        {
          "output_type": "stream",
          "name": "stderr",
          "text": [
            "<ipython-input-108-fa33ee5f3a23>:18: FutureWarning: Series.__getitem__ treating keys as positions is deprecated. In a future version, integer keys will always be treated as labels (consistent with DataFrame behavior). To access a value by position, use `ser.iloc[pos]`\n",
            "  X_test = torch.tensor(df.iloc[i, 1:], dtype=torch.float32, device=device).reshape(1, -1)\n"
          ]
        },
        {
          "output_type": "stream",
          "name": "stdout",
          "text": [
            "Finished iteration 28\n",
            "pred = [[33.923298]], obs = 33.5714285714286.\n"
          ]
        },
        {
          "output_type": "stream",
          "name": "stderr",
          "text": [
            "<ipython-input-108-fa33ee5f3a23>:18: FutureWarning: Series.__getitem__ treating keys as positions is deprecated. In a future version, integer keys will always be treated as labels (consistent with DataFrame behavior). To access a value by position, use `ser.iloc[pos]`\n",
            "  X_test = torch.tensor(df.iloc[i, 1:], dtype=torch.float32, device=device).reshape(1, -1)\n"
          ]
        },
        {
          "output_type": "stream",
          "name": "stdout",
          "text": [
            "Finished iteration 29\n",
            "pred = [[34.34486]], obs = 30.0.\n"
          ]
        },
        {
          "output_type": "stream",
          "name": "stderr",
          "text": [
            "<ipython-input-108-fa33ee5f3a23>:18: FutureWarning: Series.__getitem__ treating keys as positions is deprecated. In a future version, integer keys will always be treated as labels (consistent with DataFrame behavior). To access a value by position, use `ser.iloc[pos]`\n",
            "  X_test = torch.tensor(df.iloc[i, 1:], dtype=torch.float32, device=device).reshape(1, -1)\n"
          ]
        },
        {
          "output_type": "stream",
          "name": "stdout",
          "text": [
            "Finished iteration 30\n",
            "pred = [[45.676197]], obs = 45.0.\n"
          ]
        },
        {
          "output_type": "stream",
          "name": "stderr",
          "text": [
            "<ipython-input-108-fa33ee5f3a23>:18: FutureWarning: Series.__getitem__ treating keys as positions is deprecated. In a future version, integer keys will always be treated as labels (consistent with DataFrame behavior). To access a value by position, use `ser.iloc[pos]`\n",
            "  X_test = torch.tensor(df.iloc[i, 1:], dtype=torch.float32, device=device).reshape(1, -1)\n"
          ]
        },
        {
          "output_type": "stream",
          "name": "stdout",
          "text": [
            "Finished iteration 31\n",
            "pred = [[39.72083]], obs = 41.5.\n"
          ]
        },
        {
          "output_type": "stream",
          "name": "stderr",
          "text": [
            "<ipython-input-108-fa33ee5f3a23>:18: FutureWarning: Series.__getitem__ treating keys as positions is deprecated. In a future version, integer keys will always be treated as labels (consistent with DataFrame behavior). To access a value by position, use `ser.iloc[pos]`\n",
            "  X_test = torch.tensor(df.iloc[i, 1:], dtype=torch.float32, device=device).reshape(1, -1)\n"
          ]
        },
        {
          "output_type": "stream",
          "name": "stdout",
          "text": [
            "Finished iteration 32\n",
            "pred = [[31.283455]], obs = 31.0810810810811.\n"
          ]
        },
        {
          "output_type": "stream",
          "name": "stderr",
          "text": [
            "<ipython-input-108-fa33ee5f3a23>:18: FutureWarning: Series.__getitem__ treating keys as positions is deprecated. In a future version, integer keys will always be treated as labels (consistent with DataFrame behavior). To access a value by position, use `ser.iloc[pos]`\n",
            "  X_test = torch.tensor(df.iloc[i, 1:], dtype=torch.float32, device=device).reshape(1, -1)\n"
          ]
        },
        {
          "output_type": "stream",
          "name": "stdout",
          "text": [
            "Finished iteration 33\n",
            "pred = [[13.133097]], obs = 8.57142857142857.\n"
          ]
        },
        {
          "output_type": "stream",
          "name": "stderr",
          "text": [
            "<ipython-input-108-fa33ee5f3a23>:18: FutureWarning: Series.__getitem__ treating keys as positions is deprecated. In a future version, integer keys will always be treated as labels (consistent with DataFrame behavior). To access a value by position, use `ser.iloc[pos]`\n",
            "  X_test = torch.tensor(df.iloc[i, 1:], dtype=torch.float32, device=device).reshape(1, -1)\n"
          ]
        },
        {
          "output_type": "stream",
          "name": "stdout",
          "text": [
            "Finished iteration 34\n",
            "pred = [[17.013346]], obs = 15.0.\n"
          ]
        },
        {
          "output_type": "stream",
          "name": "stderr",
          "text": [
            "<ipython-input-108-fa33ee5f3a23>:18: FutureWarning: Series.__getitem__ treating keys as positions is deprecated. In a future version, integer keys will always be treated as labels (consistent with DataFrame behavior). To access a value by position, use `ser.iloc[pos]`\n",
            "  X_test = torch.tensor(df.iloc[i, 1:], dtype=torch.float32, device=device).reshape(1, -1)\n"
          ]
        },
        {
          "output_type": "stream",
          "name": "stdout",
          "text": [
            "Finished iteration 35\n",
            "pred = [[17.90513]], obs = 19.1666666666667.\n"
          ]
        },
        {
          "output_type": "stream",
          "name": "stderr",
          "text": [
            "<ipython-input-108-fa33ee5f3a23>:18: FutureWarning: Series.__getitem__ treating keys as positions is deprecated. In a future version, integer keys will always be treated as labels (consistent with DataFrame behavior). To access a value by position, use `ser.iloc[pos]`\n",
            "  X_test = torch.tensor(df.iloc[i, 1:], dtype=torch.float32, device=device).reshape(1, -1)\n"
          ]
        },
        {
          "output_type": "stream",
          "name": "stdout",
          "text": [
            "Finished iteration 36\n",
            "pred = [[0.6802553]], obs = 0.0649350649350649.\n"
          ]
        },
        {
          "output_type": "stream",
          "name": "stderr",
          "text": [
            "<ipython-input-108-fa33ee5f3a23>:18: FutureWarning: Series.__getitem__ treating keys as positions is deprecated. In a future version, integer keys will always be treated as labels (consistent with DataFrame behavior). To access a value by position, use `ser.iloc[pos]`\n",
            "  X_test = torch.tensor(df.iloc[i, 1:], dtype=torch.float32, device=device).reshape(1, -1)\n"
          ]
        },
        {
          "output_type": "stream",
          "name": "stdout",
          "text": [
            "Finished iteration 37\n",
            "pred = [[12.737853]], obs = 11.9047619047619.\n"
          ]
        },
        {
          "output_type": "stream",
          "name": "stderr",
          "text": [
            "<ipython-input-108-fa33ee5f3a23>:18: FutureWarning: Series.__getitem__ treating keys as positions is deprecated. In a future version, integer keys will always be treated as labels (consistent with DataFrame behavior). To access a value by position, use `ser.iloc[pos]`\n",
            "  X_test = torch.tensor(df.iloc[i, 1:], dtype=torch.float32, device=device).reshape(1, -1)\n"
          ]
        },
        {
          "output_type": "stream",
          "name": "stdout",
          "text": [
            "Finished iteration 38\n",
            "pred = [[14.721996]], obs = 13.3333333333333.\n"
          ]
        },
        {
          "output_type": "stream",
          "name": "stderr",
          "text": [
            "<ipython-input-108-fa33ee5f3a23>:18: FutureWarning: Series.__getitem__ treating keys as positions is deprecated. In a future version, integer keys will always be treated as labels (consistent with DataFrame behavior). To access a value by position, use `ser.iloc[pos]`\n",
            "  X_test = torch.tensor(df.iloc[i, 1:], dtype=torch.float32, device=device).reshape(1, -1)\n"
          ]
        },
        {
          "output_type": "stream",
          "name": "stdout",
          "text": [
            "Finished iteration 39\n",
            "pred = [[20.372725]], obs = 22.0.\n"
          ]
        },
        {
          "output_type": "stream",
          "name": "stderr",
          "text": [
            "<ipython-input-108-fa33ee5f3a23>:18: FutureWarning: Series.__getitem__ treating keys as positions is deprecated. In a future version, integer keys will always be treated as labels (consistent with DataFrame behavior). To access a value by position, use `ser.iloc[pos]`\n",
            "  X_test = torch.tensor(df.iloc[i, 1:], dtype=torch.float32, device=device).reshape(1, -1)\n"
          ]
        },
        {
          "output_type": "stream",
          "name": "stdout",
          "text": [
            "Finished iteration 40\n",
            "pred = [[24.674707]], obs = 30.0.\n"
          ]
        },
        {
          "output_type": "stream",
          "name": "stderr",
          "text": [
            "<ipython-input-108-fa33ee5f3a23>:18: FutureWarning: Series.__getitem__ treating keys as positions is deprecated. In a future version, integer keys will always be treated as labels (consistent with DataFrame behavior). To access a value by position, use `ser.iloc[pos]`\n",
            "  X_test = torch.tensor(df.iloc[i, 1:], dtype=torch.float32, device=device).reshape(1, -1)\n"
          ]
        },
        {
          "output_type": "stream",
          "name": "stdout",
          "text": [
            "Finished iteration 41\n",
            "pred = [[28.67089]], obs = 33.1798245614035.\n"
          ]
        },
        {
          "output_type": "stream",
          "name": "stderr",
          "text": [
            "<ipython-input-108-fa33ee5f3a23>:18: FutureWarning: Series.__getitem__ treating keys as positions is deprecated. In a future version, integer keys will always be treated as labels (consistent with DataFrame behavior). To access a value by position, use `ser.iloc[pos]`\n",
            "  X_test = torch.tensor(df.iloc[i, 1:], dtype=torch.float32, device=device).reshape(1, -1)\n"
          ]
        },
        {
          "output_type": "stream",
          "name": "stdout",
          "text": [
            "Finished iteration 42\n",
            "pred = [[11.713288]], obs = 15.0.\n"
          ]
        },
        {
          "output_type": "stream",
          "name": "stderr",
          "text": [
            "<ipython-input-108-fa33ee5f3a23>:18: FutureWarning: Series.__getitem__ treating keys as positions is deprecated. In a future version, integer keys will always be treated as labels (consistent with DataFrame behavior). To access a value by position, use `ser.iloc[pos]`\n",
            "  X_test = torch.tensor(df.iloc[i, 1:], dtype=torch.float32, device=device).reshape(1, -1)\n"
          ]
        },
        {
          "output_type": "stream",
          "name": "stdout",
          "text": [
            "Finished iteration 43\n",
            "pred = [[31.661743]], obs = 26.6666666666667.\n"
          ]
        },
        {
          "output_type": "stream",
          "name": "stderr",
          "text": [
            "<ipython-input-108-fa33ee5f3a23>:18: FutureWarning: Series.__getitem__ treating keys as positions is deprecated. In a future version, integer keys will always be treated as labels (consistent with DataFrame behavior). To access a value by position, use `ser.iloc[pos]`\n",
            "  X_test = torch.tensor(df.iloc[i, 1:], dtype=torch.float32, device=device).reshape(1, -1)\n"
          ]
        },
        {
          "output_type": "stream",
          "name": "stdout",
          "text": [
            "Finished iteration 44\n",
            "pred = [[17.93122]], obs = 20.2631578947368.\n"
          ]
        },
        {
          "output_type": "stream",
          "name": "stderr",
          "text": [
            "<ipython-input-108-fa33ee5f3a23>:18: FutureWarning: Series.__getitem__ treating keys as positions is deprecated. In a future version, integer keys will always be treated as labels (consistent with DataFrame behavior). To access a value by position, use `ser.iloc[pos]`\n",
            "  X_test = torch.tensor(df.iloc[i, 1:], dtype=torch.float32, device=device).reshape(1, -1)\n"
          ]
        },
        {
          "output_type": "stream",
          "name": "stdout",
          "text": [
            "Finished iteration 45\n",
            "pred = [[29.688057]], obs = 30.0.\n"
          ]
        },
        {
          "output_type": "stream",
          "name": "stderr",
          "text": [
            "<ipython-input-108-fa33ee5f3a23>:18: FutureWarning: Series.__getitem__ treating keys as positions is deprecated. In a future version, integer keys will always be treated as labels (consistent with DataFrame behavior). To access a value by position, use `ser.iloc[pos]`\n",
            "  X_test = torch.tensor(df.iloc[i, 1:], dtype=torch.float32, device=device).reshape(1, -1)\n"
          ]
        },
        {
          "output_type": "stream",
          "name": "stdout",
          "text": [
            "Finished iteration 46\n",
            "pred = [[31.997404]], obs = 35.6190476190476.\n"
          ]
        },
        {
          "output_type": "stream",
          "name": "stderr",
          "text": [
            "<ipython-input-108-fa33ee5f3a23>:18: FutureWarning: Series.__getitem__ treating keys as positions is deprecated. In a future version, integer keys will always be treated as labels (consistent with DataFrame behavior). To access a value by position, use `ser.iloc[pos]`\n",
            "  X_test = torch.tensor(df.iloc[i, 1:], dtype=torch.float32, device=device).reshape(1, -1)\n"
          ]
        },
        {
          "output_type": "stream",
          "name": "stdout",
          "text": [
            "Finished iteration 47\n",
            "pred = [[14.271171]], obs = 20.0.\n"
          ]
        },
        {
          "output_type": "stream",
          "name": "stderr",
          "text": [
            "<ipython-input-108-fa33ee5f3a23>:18: FutureWarning: Series.__getitem__ treating keys as positions is deprecated. In a future version, integer keys will always be treated as labels (consistent with DataFrame behavior). To access a value by position, use `ser.iloc[pos]`\n",
            "  X_test = torch.tensor(df.iloc[i, 1:], dtype=torch.float32, device=device).reshape(1, -1)\n"
          ]
        },
        {
          "output_type": "stream",
          "name": "stdout",
          "text": [
            "Finished iteration 48\n",
            "pred = [[20.889296]], obs = 20.0.\n"
          ]
        },
        {
          "output_type": "stream",
          "name": "stderr",
          "text": [
            "<ipython-input-108-fa33ee5f3a23>:18: FutureWarning: Series.__getitem__ treating keys as positions is deprecated. In a future version, integer keys will always be treated as labels (consistent with DataFrame behavior). To access a value by position, use `ser.iloc[pos]`\n",
            "  X_test = torch.tensor(df.iloc[i, 1:], dtype=torch.float32, device=device).reshape(1, -1)\n"
          ]
        },
        {
          "output_type": "stream",
          "name": "stdout",
          "text": [
            "Finished iteration 49\n",
            "pred = [[27.034054]], obs = 20.0.\n"
          ]
        },
        {
          "output_type": "stream",
          "name": "stderr",
          "text": [
            "<ipython-input-108-fa33ee5f3a23>:18: FutureWarning: Series.__getitem__ treating keys as positions is deprecated. In a future version, integer keys will always be treated as labels (consistent with DataFrame behavior). To access a value by position, use `ser.iloc[pos]`\n",
            "  X_test = torch.tensor(df.iloc[i, 1:], dtype=torch.float32, device=device).reshape(1, -1)\n"
          ]
        },
        {
          "output_type": "stream",
          "name": "stdout",
          "text": [
            "Finished iteration 50\n",
            "pred = [[0.12013642]], obs = 0.606060606060606.\n"
          ]
        },
        {
          "output_type": "stream",
          "name": "stderr",
          "text": [
            "<ipython-input-108-fa33ee5f3a23>:18: FutureWarning: Series.__getitem__ treating keys as positions is deprecated. In a future version, integer keys will always be treated as labels (consistent with DataFrame behavior). To access a value by position, use `ser.iloc[pos]`\n",
            "  X_test = torch.tensor(df.iloc[i, 1:], dtype=torch.float32, device=device).reshape(1, -1)\n"
          ]
        },
        {
          "output_type": "stream",
          "name": "stdout",
          "text": [
            "Finished iteration 51\n",
            "pred = [[32.380608]], obs = 33.1481481481481.\n"
          ]
        },
        {
          "output_type": "stream",
          "name": "stderr",
          "text": [
            "<ipython-input-108-fa33ee5f3a23>:18: FutureWarning: Series.__getitem__ treating keys as positions is deprecated. In a future version, integer keys will always be treated as labels (consistent with DataFrame behavior). To access a value by position, use `ser.iloc[pos]`\n",
            "  X_test = torch.tensor(df.iloc[i, 1:], dtype=torch.float32, device=device).reshape(1, -1)\n"
          ]
        },
        {
          "output_type": "stream",
          "name": "stdout",
          "text": [
            "Finished iteration 52\n",
            "pred = [[18.578827]], obs = 17.4586776859504.\n"
          ]
        },
        {
          "output_type": "stream",
          "name": "stderr",
          "text": [
            "<ipython-input-108-fa33ee5f3a23>:18: FutureWarning: Series.__getitem__ treating keys as positions is deprecated. In a future version, integer keys will always be treated as labels (consistent with DataFrame behavior). To access a value by position, use `ser.iloc[pos]`\n",
            "  X_test = torch.tensor(df.iloc[i, 1:], dtype=torch.float32, device=device).reshape(1, -1)\n"
          ]
        },
        {
          "output_type": "stream",
          "name": "stdout",
          "text": [
            "Finished iteration 53\n",
            "pred = [[23.804682]], obs = 24.0425531914894.\n"
          ]
        },
        {
          "output_type": "stream",
          "name": "stderr",
          "text": [
            "<ipython-input-108-fa33ee5f3a23>:18: FutureWarning: Series.__getitem__ treating keys as positions is deprecated. In a future version, integer keys will always be treated as labels (consistent with DataFrame behavior). To access a value by position, use `ser.iloc[pos]`\n",
            "  X_test = torch.tensor(df.iloc[i, 1:], dtype=torch.float32, device=device).reshape(1, -1)\n"
          ]
        },
        {
          "output_type": "stream",
          "name": "stdout",
          "text": [
            "Finished iteration 54\n",
            "pred = [[9.046685]], obs = 11.8055555555556.\n"
          ]
        },
        {
          "output_type": "stream",
          "name": "stderr",
          "text": [
            "<ipython-input-108-fa33ee5f3a23>:18: FutureWarning: Series.__getitem__ treating keys as positions is deprecated. In a future version, integer keys will always be treated as labels (consistent with DataFrame behavior). To access a value by position, use `ser.iloc[pos]`\n",
            "  X_test = torch.tensor(df.iloc[i, 1:], dtype=torch.float32, device=device).reshape(1, -1)\n"
          ]
        },
        {
          "output_type": "stream",
          "name": "stdout",
          "text": [
            "Finished iteration 55\n",
            "pred = [[11.003364]], obs = 11.2264150943396.\n"
          ]
        },
        {
          "output_type": "stream",
          "name": "stderr",
          "text": [
            "<ipython-input-108-fa33ee5f3a23>:18: FutureWarning: Series.__getitem__ treating keys as positions is deprecated. In a future version, integer keys will always be treated as labels (consistent with DataFrame behavior). To access a value by position, use `ser.iloc[pos]`\n",
            "  X_test = torch.tensor(df.iloc[i, 1:], dtype=torch.float32, device=device).reshape(1, -1)\n"
          ]
        },
        {
          "output_type": "stream",
          "name": "stdout",
          "text": [
            "Finished iteration 56\n",
            "pred = [[29.94188]], obs = 30.6349206349206.\n"
          ]
        },
        {
          "output_type": "stream",
          "name": "stderr",
          "text": [
            "<ipython-input-108-fa33ee5f3a23>:18: FutureWarning: Series.__getitem__ treating keys as positions is deprecated. In a future version, integer keys will always be treated as labels (consistent with DataFrame behavior). To access a value by position, use `ser.iloc[pos]`\n",
            "  X_test = torch.tensor(df.iloc[i, 1:], dtype=torch.float32, device=device).reshape(1, -1)\n"
          ]
        },
        {
          "output_type": "stream",
          "name": "stdout",
          "text": [
            "Finished iteration 57\n",
            "pred = [[28.293283]], obs = 28.0952380952381.\n"
          ]
        },
        {
          "output_type": "stream",
          "name": "stderr",
          "text": [
            "<ipython-input-108-fa33ee5f3a23>:18: FutureWarning: Series.__getitem__ treating keys as positions is deprecated. In a future version, integer keys will always be treated as labels (consistent with DataFrame behavior). To access a value by position, use `ser.iloc[pos]`\n",
            "  X_test = torch.tensor(df.iloc[i, 1:], dtype=torch.float32, device=device).reshape(1, -1)\n"
          ]
        },
        {
          "output_type": "stream",
          "name": "stdout",
          "text": [
            "Finished iteration 58\n",
            "pred = [[23.266237]], obs = 23.0.\n"
          ]
        },
        {
          "output_type": "stream",
          "name": "stderr",
          "text": [
            "<ipython-input-108-fa33ee5f3a23>:18: FutureWarning: Series.__getitem__ treating keys as positions is deprecated. In a future version, integer keys will always be treated as labels (consistent with DataFrame behavior). To access a value by position, use `ser.iloc[pos]`\n",
            "  X_test = torch.tensor(df.iloc[i, 1:], dtype=torch.float32, device=device).reshape(1, -1)\n"
          ]
        },
        {
          "output_type": "stream",
          "name": "stdout",
          "text": [
            "Finished iteration 59\n",
            "pred = [[19.552654]], obs = 20.0.\n"
          ]
        },
        {
          "output_type": "stream",
          "name": "stderr",
          "text": [
            "<ipython-input-108-fa33ee5f3a23>:18: FutureWarning: Series.__getitem__ treating keys as positions is deprecated. In a future version, integer keys will always be treated as labels (consistent with DataFrame behavior). To access a value by position, use `ser.iloc[pos]`\n",
            "  X_test = torch.tensor(df.iloc[i, 1:], dtype=torch.float32, device=device).reshape(1, -1)\n"
          ]
        },
        {
          "output_type": "stream",
          "name": "stdout",
          "text": [
            "Finished iteration 60\n",
            "pred = [[14.205103]], obs = 14.6376811594203.\n"
          ]
        },
        {
          "output_type": "stream",
          "name": "stderr",
          "text": [
            "<ipython-input-108-fa33ee5f3a23>:18: FutureWarning: Series.__getitem__ treating keys as positions is deprecated. In a future version, integer keys will always be treated as labels (consistent with DataFrame behavior). To access a value by position, use `ser.iloc[pos]`\n",
            "  X_test = torch.tensor(df.iloc[i, 1:], dtype=torch.float32, device=device).reshape(1, -1)\n"
          ]
        },
        {
          "output_type": "stream",
          "name": "stdout",
          "text": [
            "Finished iteration 61\n",
            "pred = [[20.688366]], obs = 18.5714285714286.\n"
          ]
        },
        {
          "output_type": "stream",
          "name": "stderr",
          "text": [
            "<ipython-input-108-fa33ee5f3a23>:18: FutureWarning: Series.__getitem__ treating keys as positions is deprecated. In a future version, integer keys will always be treated as labels (consistent with DataFrame behavior). To access a value by position, use `ser.iloc[pos]`\n",
            "  X_test = torch.tensor(df.iloc[i, 1:], dtype=torch.float32, device=device).reshape(1, -1)\n"
          ]
        },
        {
          "output_type": "stream",
          "name": "stdout",
          "text": [
            "Finished iteration 62\n",
            "pred = [[18.204329]], obs = 15.8333333333333.\n"
          ]
        },
        {
          "output_type": "stream",
          "name": "stderr",
          "text": [
            "<ipython-input-108-fa33ee5f3a23>:18: FutureWarning: Series.__getitem__ treating keys as positions is deprecated. In a future version, integer keys will always be treated as labels (consistent with DataFrame behavior). To access a value by position, use `ser.iloc[pos]`\n",
            "  X_test = torch.tensor(df.iloc[i, 1:], dtype=torch.float32, device=device).reshape(1, -1)\n"
          ]
        },
        {
          "output_type": "stream",
          "name": "stdout",
          "text": [
            "Finished iteration 63\n",
            "pred = [[22.897987]], obs = 20.1688311688312.\n"
          ]
        },
        {
          "output_type": "stream",
          "name": "stderr",
          "text": [
            "<ipython-input-108-fa33ee5f3a23>:18: FutureWarning: Series.__getitem__ treating keys as positions is deprecated. In a future version, integer keys will always be treated as labels (consistent with DataFrame behavior). To access a value by position, use `ser.iloc[pos]`\n",
            "  X_test = torch.tensor(df.iloc[i, 1:], dtype=torch.float32, device=device).reshape(1, -1)\n"
          ]
        },
        {
          "output_type": "stream",
          "name": "stdout",
          "text": [
            "Finished iteration 64\n",
            "pred = [[28.213484]], obs = 27.2556390977444.\n"
          ]
        },
        {
          "output_type": "stream",
          "name": "stderr",
          "text": [
            "<ipython-input-108-fa33ee5f3a23>:18: FutureWarning: Series.__getitem__ treating keys as positions is deprecated. In a future version, integer keys will always be treated as labels (consistent with DataFrame behavior). To access a value by position, use `ser.iloc[pos]`\n",
            "  X_test = torch.tensor(df.iloc[i, 1:], dtype=torch.float32, device=device).reshape(1, -1)\n"
          ]
        },
        {
          "output_type": "stream",
          "name": "stdout",
          "text": [
            "Finished iteration 65\n",
            "pred = [[26.853344]], obs = 26.4285714285714.\n"
          ]
        },
        {
          "output_type": "stream",
          "name": "stderr",
          "text": [
            "<ipython-input-108-fa33ee5f3a23>:18: FutureWarning: Series.__getitem__ treating keys as positions is deprecated. In a future version, integer keys will always be treated as labels (consistent with DataFrame behavior). To access a value by position, use `ser.iloc[pos]`\n",
            "  X_test = torch.tensor(df.iloc[i, 1:], dtype=torch.float32, device=device).reshape(1, -1)\n"
          ]
        },
        {
          "output_type": "stream",
          "name": "stdout",
          "text": [
            "Finished iteration 66\n",
            "pred = [[17.41508]], obs = 14.0.\n"
          ]
        },
        {
          "output_type": "stream",
          "name": "stderr",
          "text": [
            "<ipython-input-108-fa33ee5f3a23>:18: FutureWarning: Series.__getitem__ treating keys as positions is deprecated. In a future version, integer keys will always be treated as labels (consistent with DataFrame behavior). To access a value by position, use `ser.iloc[pos]`\n",
            "  X_test = torch.tensor(df.iloc[i, 1:], dtype=torch.float32, device=device).reshape(1, -1)\n"
          ]
        },
        {
          "output_type": "stream",
          "name": "stdout",
          "text": [
            "Finished iteration 67\n",
            "pred = [[17.24789]], obs = 17.1794871794872.\n"
          ]
        },
        {
          "output_type": "stream",
          "name": "stderr",
          "text": [
            "<ipython-input-108-fa33ee5f3a23>:18: FutureWarning: Series.__getitem__ treating keys as positions is deprecated. In a future version, integer keys will always be treated as labels (consistent with DataFrame behavior). To access a value by position, use `ser.iloc[pos]`\n",
            "  X_test = torch.tensor(df.iloc[i, 1:], dtype=torch.float32, device=device).reshape(1, -1)\n"
          ]
        },
        {
          "output_type": "stream",
          "name": "stdout",
          "text": [
            "Finished iteration 68\n",
            "pred = [[16.656088]], obs = 16.9318181818182.\n"
          ]
        },
        {
          "output_type": "stream",
          "name": "stderr",
          "text": [
            "<ipython-input-108-fa33ee5f3a23>:18: FutureWarning: Series.__getitem__ treating keys as positions is deprecated. In a future version, integer keys will always be treated as labels (consistent with DataFrame behavior). To access a value by position, use `ser.iloc[pos]`\n",
            "  X_test = torch.tensor(df.iloc[i, 1:], dtype=torch.float32, device=device).reshape(1, -1)\n"
          ]
        },
        {
          "output_type": "stream",
          "name": "stdout",
          "text": [
            "Finished iteration 69\n",
            "pred = [[31.12816]], obs = 37.5.\n"
          ]
        },
        {
          "output_type": "stream",
          "name": "stderr",
          "text": [
            "<ipython-input-108-fa33ee5f3a23>:18: FutureWarning: Series.__getitem__ treating keys as positions is deprecated. In a future version, integer keys will always be treated as labels (consistent with DataFrame behavior). To access a value by position, use `ser.iloc[pos]`\n",
            "  X_test = torch.tensor(df.iloc[i, 1:], dtype=torch.float32, device=device).reshape(1, -1)\n"
          ]
        },
        {
          "output_type": "stream",
          "name": "stdout",
          "text": [
            "Finished iteration 70\n",
            "pred = [[31.982464]], obs = 26.8382352941176.\n"
          ]
        },
        {
          "output_type": "stream",
          "name": "stderr",
          "text": [
            "<ipython-input-108-fa33ee5f3a23>:18: FutureWarning: Series.__getitem__ treating keys as positions is deprecated. In a future version, integer keys will always be treated as labels (consistent with DataFrame behavior). To access a value by position, use `ser.iloc[pos]`\n",
            "  X_test = torch.tensor(df.iloc[i, 1:], dtype=torch.float32, device=device).reshape(1, -1)\n"
          ]
        },
        {
          "output_type": "stream",
          "name": "stdout",
          "text": [
            "Finished iteration 71\n",
            "pred = [[5.0018687]], obs = 5.0.\n"
          ]
        },
        {
          "output_type": "stream",
          "name": "stderr",
          "text": [
            "<ipython-input-108-fa33ee5f3a23>:18: FutureWarning: Series.__getitem__ treating keys as positions is deprecated. In a future version, integer keys will always be treated as labels (consistent with DataFrame behavior). To access a value by position, use `ser.iloc[pos]`\n",
            "  X_test = torch.tensor(df.iloc[i, 1:], dtype=torch.float32, device=device).reshape(1, -1)\n"
          ]
        },
        {
          "output_type": "stream",
          "name": "stdout",
          "text": [
            "Finished iteration 72\n",
            "pred = [[5.528624]], obs = 5.64516129032258.\n"
          ]
        },
        {
          "output_type": "stream",
          "name": "stderr",
          "text": [
            "<ipython-input-108-fa33ee5f3a23>:18: FutureWarning: Series.__getitem__ treating keys as positions is deprecated. In a future version, integer keys will always be treated as labels (consistent with DataFrame behavior). To access a value by position, use `ser.iloc[pos]`\n",
            "  X_test = torch.tensor(df.iloc[i, 1:], dtype=torch.float32, device=device).reshape(1, -1)\n"
          ]
        },
        {
          "output_type": "stream",
          "name": "stdout",
          "text": [
            "Finished iteration 73\n",
            "pred = [[25.977783]], obs = 26.3157894736842.\n"
          ]
        },
        {
          "output_type": "stream",
          "name": "stderr",
          "text": [
            "<ipython-input-108-fa33ee5f3a23>:18: FutureWarning: Series.__getitem__ treating keys as positions is deprecated. In a future version, integer keys will always be treated as labels (consistent with DataFrame behavior). To access a value by position, use `ser.iloc[pos]`\n",
            "  X_test = torch.tensor(df.iloc[i, 1:], dtype=torch.float32, device=device).reshape(1, -1)\n"
          ]
        },
        {
          "output_type": "stream",
          "name": "stdout",
          "text": [
            "Finished iteration 74\n",
            "pred = [[23.197344]], obs = 22.7586206896552.\n"
          ]
        },
        {
          "output_type": "stream",
          "name": "stderr",
          "text": [
            "<ipython-input-108-fa33ee5f3a23>:18: FutureWarning: Series.__getitem__ treating keys as positions is deprecated. In a future version, integer keys will always be treated as labels (consistent with DataFrame behavior). To access a value by position, use `ser.iloc[pos]`\n",
            "  X_test = torch.tensor(df.iloc[i, 1:], dtype=torch.float32, device=device).reshape(1, -1)\n"
          ]
        },
        {
          "output_type": "stream",
          "name": "stdout",
          "text": [
            "Finished iteration 75\n",
            "pred = [[9.021882]], obs = 9.0.\n"
          ]
        },
        {
          "output_type": "stream",
          "name": "stderr",
          "text": [
            "<ipython-input-108-fa33ee5f3a23>:18: FutureWarning: Series.__getitem__ treating keys as positions is deprecated. In a future version, integer keys will always be treated as labels (consistent with DataFrame behavior). To access a value by position, use `ser.iloc[pos]`\n",
            "  X_test = torch.tensor(df.iloc[i, 1:], dtype=torch.float32, device=device).reshape(1, -1)\n"
          ]
        },
        {
          "output_type": "stream",
          "name": "stdout",
          "text": [
            "Finished iteration 76\n",
            "pred = [[9.917509]], obs = 10.0.\n"
          ]
        },
        {
          "output_type": "stream",
          "name": "stderr",
          "text": [
            "<ipython-input-108-fa33ee5f3a23>:18: FutureWarning: Series.__getitem__ treating keys as positions is deprecated. In a future version, integer keys will always be treated as labels (consistent with DataFrame behavior). To access a value by position, use `ser.iloc[pos]`\n",
            "  X_test = torch.tensor(df.iloc[i, 1:], dtype=torch.float32, device=device).reshape(1, -1)\n"
          ]
        },
        {
          "output_type": "stream",
          "name": "stdout",
          "text": [
            "Finished iteration 77\n",
            "pred = [[5.023044]], obs = 5.0.\n"
          ]
        },
        {
          "output_type": "stream",
          "name": "stderr",
          "text": [
            "<ipython-input-108-fa33ee5f3a23>:18: FutureWarning: Series.__getitem__ treating keys as positions is deprecated. In a future version, integer keys will always be treated as labels (consistent with DataFrame behavior). To access a value by position, use `ser.iloc[pos]`\n",
            "  X_test = torch.tensor(df.iloc[i, 1:], dtype=torch.float32, device=device).reshape(1, -1)\n"
          ]
        },
        {
          "output_type": "stream",
          "name": "stdout",
          "text": [
            "Finished iteration 78\n",
            "pred = [[4.42249]], obs = 4.44444444444444.\n"
          ]
        },
        {
          "output_type": "stream",
          "name": "stderr",
          "text": [
            "<ipython-input-108-fa33ee5f3a23>:18: FutureWarning: Series.__getitem__ treating keys as positions is deprecated. In a future version, integer keys will always be treated as labels (consistent with DataFrame behavior). To access a value by position, use `ser.iloc[pos]`\n",
            "  X_test = torch.tensor(df.iloc[i, 1:], dtype=torch.float32, device=device).reshape(1, -1)\n"
          ]
        },
        {
          "output_type": "stream",
          "name": "stdout",
          "text": [
            "Finished iteration 79\n",
            "pred = [[4.248961]], obs = 4.24242424242424.\n"
          ]
        },
        {
          "output_type": "stream",
          "name": "stderr",
          "text": [
            "<ipython-input-108-fa33ee5f3a23>:18: FutureWarning: Series.__getitem__ treating keys as positions is deprecated. In a future version, integer keys will always be treated as labels (consistent with DataFrame behavior). To access a value by position, use `ser.iloc[pos]`\n",
            "  X_test = torch.tensor(df.iloc[i, 1:], dtype=torch.float32, device=device).reshape(1, -1)\n"
          ]
        },
        {
          "output_type": "stream",
          "name": "stdout",
          "text": [
            "Finished iteration 80\n",
            "pred = [[39.087563]], obs = 36.71875.\n"
          ]
        },
        {
          "output_type": "stream",
          "name": "stderr",
          "text": [
            "<ipython-input-108-fa33ee5f3a23>:18: FutureWarning: Series.__getitem__ treating keys as positions is deprecated. In a future version, integer keys will always be treated as labels (consistent with DataFrame behavior). To access a value by position, use `ser.iloc[pos]`\n",
            "  X_test = torch.tensor(df.iloc[i, 1:], dtype=torch.float32, device=device).reshape(1, -1)\n"
          ]
        },
        {
          "output_type": "stream",
          "name": "stdout",
          "text": [
            "Finished iteration 81\n",
            "pred = [[45.707916]], obs = 50.0.\n"
          ]
        },
        {
          "output_type": "stream",
          "name": "stderr",
          "text": [
            "<ipython-input-108-fa33ee5f3a23>:18: FutureWarning: Series.__getitem__ treating keys as positions is deprecated. In a future version, integer keys will always be treated as labels (consistent with DataFrame behavior). To access a value by position, use `ser.iloc[pos]`\n",
            "  X_test = torch.tensor(df.iloc[i, 1:], dtype=torch.float32, device=device).reshape(1, -1)\n"
          ]
        },
        {
          "output_type": "stream",
          "name": "stdout",
          "text": [
            "Finished iteration 82\n",
            "pred = [[19.090696]], obs = 16.1111111111111.\n"
          ]
        },
        {
          "output_type": "stream",
          "name": "stderr",
          "text": [
            "<ipython-input-108-fa33ee5f3a23>:18: FutureWarning: Series.__getitem__ treating keys as positions is deprecated. In a future version, integer keys will always be treated as labels (consistent with DataFrame behavior). To access a value by position, use `ser.iloc[pos]`\n",
            "  X_test = torch.tensor(df.iloc[i, 1:], dtype=torch.float32, device=device).reshape(1, -1)\n"
          ]
        },
        {
          "output_type": "stream",
          "name": "stdout",
          "text": [
            "Finished iteration 83\n",
            "pred = [[21.185797]], obs = 22.0.\n"
          ]
        },
        {
          "output_type": "stream",
          "name": "stderr",
          "text": [
            "<ipython-input-108-fa33ee5f3a23>:18: FutureWarning: Series.__getitem__ treating keys as positions is deprecated. In a future version, integer keys will always be treated as labels (consistent with DataFrame behavior). To access a value by position, use `ser.iloc[pos]`\n",
            "  X_test = torch.tensor(df.iloc[i, 1:], dtype=torch.float32, device=device).reshape(1, -1)\n"
          ]
        },
        {
          "output_type": "stream",
          "name": "stdout",
          "text": [
            "Finished iteration 84\n",
            "pred = [[41.203197]], obs = 40.0.\n"
          ]
        },
        {
          "output_type": "stream",
          "name": "stderr",
          "text": [
            "<ipython-input-108-fa33ee5f3a23>:18: FutureWarning: Series.__getitem__ treating keys as positions is deprecated. In a future version, integer keys will always be treated as labels (consistent with DataFrame behavior). To access a value by position, use `ser.iloc[pos]`\n",
            "  X_test = torch.tensor(df.iloc[i, 1:], dtype=torch.float32, device=device).reshape(1, -1)\n"
          ]
        },
        {
          "output_type": "stream",
          "name": "stdout",
          "text": [
            "Finished iteration 85\n",
            "pred = [[26.544437]], obs = 26.8181818181818.\n"
          ]
        },
        {
          "output_type": "stream",
          "name": "stderr",
          "text": [
            "<ipython-input-108-fa33ee5f3a23>:18: FutureWarning: Series.__getitem__ treating keys as positions is deprecated. In a future version, integer keys will always be treated as labels (consistent with DataFrame behavior). To access a value by position, use `ser.iloc[pos]`\n",
            "  X_test = torch.tensor(df.iloc[i, 1:], dtype=torch.float32, device=device).reshape(1, -1)\n"
          ]
        },
        {
          "output_type": "stream",
          "name": "stdout",
          "text": [
            "Finished iteration 86\n",
            "pred = [[28.126232]], obs = 28.0.\n"
          ]
        },
        {
          "output_type": "stream",
          "name": "stderr",
          "text": [
            "<ipython-input-108-fa33ee5f3a23>:18: FutureWarning: Series.__getitem__ treating keys as positions is deprecated. In a future version, integer keys will always be treated as labels (consistent with DataFrame behavior). To access a value by position, use `ser.iloc[pos]`\n",
            "  X_test = torch.tensor(df.iloc[i, 1:], dtype=torch.float32, device=device).reshape(1, -1)\n"
          ]
        },
        {
          "output_type": "stream",
          "name": "stdout",
          "text": [
            "Finished iteration 87\n",
            "pred = [[24.245804]], obs = 25.1351351351351.\n"
          ]
        },
        {
          "output_type": "stream",
          "name": "stderr",
          "text": [
            "<ipython-input-108-fa33ee5f3a23>:18: FutureWarning: Series.__getitem__ treating keys as positions is deprecated. In a future version, integer keys will always be treated as labels (consistent with DataFrame behavior). To access a value by position, use `ser.iloc[pos]`\n",
            "  X_test = torch.tensor(df.iloc[i, 1:], dtype=torch.float32, device=device).reshape(1, -1)\n"
          ]
        },
        {
          "output_type": "stream",
          "name": "stdout",
          "text": [
            "Finished iteration 88\n",
            "pred = [[32.251194]], obs = 31.5909090909091.\n"
          ]
        },
        {
          "output_type": "stream",
          "name": "stderr",
          "text": [
            "<ipython-input-108-fa33ee5f3a23>:18: FutureWarning: Series.__getitem__ treating keys as positions is deprecated. In a future version, integer keys will always be treated as labels (consistent with DataFrame behavior). To access a value by position, use `ser.iloc[pos]`\n",
            "  X_test = torch.tensor(df.iloc[i, 1:], dtype=torch.float32, device=device).reshape(1, -1)\n"
          ]
        },
        {
          "output_type": "stream",
          "name": "stdout",
          "text": [
            "Finished iteration 89\n",
            "pred = [[41.074936]], obs = 40.9090909090909.\n"
          ]
        },
        {
          "output_type": "stream",
          "name": "stderr",
          "text": [
            "<ipython-input-108-fa33ee5f3a23>:18: FutureWarning: Series.__getitem__ treating keys as positions is deprecated. In a future version, integer keys will always be treated as labels (consistent with DataFrame behavior). To access a value by position, use `ser.iloc[pos]`\n",
            "  X_test = torch.tensor(df.iloc[i, 1:], dtype=torch.float32, device=device).reshape(1, -1)\n"
          ]
        },
        {
          "output_type": "stream",
          "name": "stdout",
          "text": [
            "Finished iteration 90\n",
            "pred = [[37.855145]], obs = 37.7777777777778.\n"
          ]
        },
        {
          "output_type": "stream",
          "name": "stderr",
          "text": [
            "<ipython-input-108-fa33ee5f3a23>:18: FutureWarning: Series.__getitem__ treating keys as positions is deprecated. In a future version, integer keys will always be treated as labels (consistent with DataFrame behavior). To access a value by position, use `ser.iloc[pos]`\n",
            "  X_test = torch.tensor(df.iloc[i, 1:], dtype=torch.float32, device=device).reshape(1, -1)\n"
          ]
        },
        {
          "output_type": "stream",
          "name": "stdout",
          "text": [
            "Finished iteration 91\n",
            "pred = [[35.005665]], obs = 35.2112676056338.\n"
          ]
        },
        {
          "output_type": "stream",
          "name": "stderr",
          "text": [
            "<ipython-input-108-fa33ee5f3a23>:18: FutureWarning: Series.__getitem__ treating keys as positions is deprecated. In a future version, integer keys will always be treated as labels (consistent with DataFrame behavior). To access a value by position, use `ser.iloc[pos]`\n",
            "  X_test = torch.tensor(df.iloc[i, 1:], dtype=torch.float32, device=device).reshape(1, -1)\n"
          ]
        },
        {
          "output_type": "stream",
          "name": "stdout",
          "text": [
            "Finished iteration 92\n",
            "pred = [[40.268173]], obs = 39.9444444444444.\n"
          ]
        },
        {
          "output_type": "stream",
          "name": "stderr",
          "text": [
            "<ipython-input-108-fa33ee5f3a23>:18: FutureWarning: Series.__getitem__ treating keys as positions is deprecated. In a future version, integer keys will always be treated as labels (consistent with DataFrame behavior). To access a value by position, use `ser.iloc[pos]`\n",
            "  X_test = torch.tensor(df.iloc[i, 1:], dtype=torch.float32, device=device).reshape(1, -1)\n"
          ]
        },
        {
          "output_type": "stream",
          "name": "stdout",
          "text": [
            "Finished iteration 93\n",
            "pred = [[37.302597]], obs = 39.1509433962264.\n"
          ]
        },
        {
          "output_type": "stream",
          "name": "stderr",
          "text": [
            "<ipython-input-108-fa33ee5f3a23>:18: FutureWarning: Series.__getitem__ treating keys as positions is deprecated. In a future version, integer keys will always be treated as labels (consistent with DataFrame behavior). To access a value by position, use `ser.iloc[pos]`\n",
            "  X_test = torch.tensor(df.iloc[i, 1:], dtype=torch.float32, device=device).reshape(1, -1)\n"
          ]
        },
        {
          "output_type": "stream",
          "name": "stdout",
          "text": [
            "Finished iteration 94\n",
            "pred = [[28.25441]], obs = 27.8947368421053.\n"
          ]
        },
        {
          "output_type": "stream",
          "name": "stderr",
          "text": [
            "<ipython-input-108-fa33ee5f3a23>:18: FutureWarning: Series.__getitem__ treating keys as positions is deprecated. In a future version, integer keys will always be treated as labels (consistent with DataFrame behavior). To access a value by position, use `ser.iloc[pos]`\n",
            "  X_test = torch.tensor(df.iloc[i, 1:], dtype=torch.float32, device=device).reshape(1, -1)\n"
          ]
        },
        {
          "output_type": "stream",
          "name": "stdout",
          "text": [
            "Finished iteration 95\n",
            "pred = [[42.870983]], obs = 42.2727272727273.\n"
          ]
        },
        {
          "output_type": "stream",
          "name": "stderr",
          "text": [
            "<ipython-input-108-fa33ee5f3a23>:18: FutureWarning: Series.__getitem__ treating keys as positions is deprecated. In a future version, integer keys will always be treated as labels (consistent with DataFrame behavior). To access a value by position, use `ser.iloc[pos]`\n",
            "  X_test = torch.tensor(df.iloc[i, 1:], dtype=torch.float32, device=device).reshape(1, -1)\n"
          ]
        },
        {
          "output_type": "stream",
          "name": "stdout",
          "text": [
            "Finished iteration 96\n",
            "pred = [[36.481617]], obs = 35.2631578947368.\n"
          ]
        },
        {
          "output_type": "stream",
          "name": "stderr",
          "text": [
            "<ipython-input-108-fa33ee5f3a23>:18: FutureWarning: Series.__getitem__ treating keys as positions is deprecated. In a future version, integer keys will always be treated as labels (consistent with DataFrame behavior). To access a value by position, use `ser.iloc[pos]`\n",
            "  X_test = torch.tensor(df.iloc[i, 1:], dtype=torch.float32, device=device).reshape(1, -1)\n"
          ]
        },
        {
          "output_type": "stream",
          "name": "stdout",
          "text": [
            "Finished iteration 97\n",
            "pred = [[39.77838]], obs = 40.4166666666667.\n"
          ]
        },
        {
          "output_type": "stream",
          "name": "stderr",
          "text": [
            "<ipython-input-108-fa33ee5f3a23>:18: FutureWarning: Series.__getitem__ treating keys as positions is deprecated. In a future version, integer keys will always be treated as labels (consistent with DataFrame behavior). To access a value by position, use `ser.iloc[pos]`\n",
            "  X_test = torch.tensor(df.iloc[i, 1:], dtype=torch.float32, device=device).reshape(1, -1)\n"
          ]
        },
        {
          "output_type": "stream",
          "name": "stdout",
          "text": [
            "Finished iteration 98\n",
            "pred = [[29.199259]], obs = 29.2253521126761.\n"
          ]
        },
        {
          "output_type": "stream",
          "name": "stderr",
          "text": [
            "<ipython-input-108-fa33ee5f3a23>:18: FutureWarning: Series.__getitem__ treating keys as positions is deprecated. In a future version, integer keys will always be treated as labels (consistent with DataFrame behavior). To access a value by position, use `ser.iloc[pos]`\n",
            "  X_test = torch.tensor(df.iloc[i, 1:], dtype=torch.float32, device=device).reshape(1, -1)\n"
          ]
        },
        {
          "output_type": "stream",
          "name": "stdout",
          "text": [
            "Finished iteration 99\n",
            "pred = [[34.98104]], obs = 34.873417721519.\n"
          ]
        },
        {
          "output_type": "stream",
          "name": "stderr",
          "text": [
            "<ipython-input-108-fa33ee5f3a23>:18: FutureWarning: Series.__getitem__ treating keys as positions is deprecated. In a future version, integer keys will always be treated as labels (consistent with DataFrame behavior). To access a value by position, use `ser.iloc[pos]`\n",
            "  X_test = torch.tensor(df.iloc[i, 1:], dtype=torch.float32, device=device).reshape(1, -1)\n"
          ]
        },
        {
          "output_type": "stream",
          "name": "stdout",
          "text": [
            "Finished iteration 100\n",
            "pred = [[38.915886]], obs = 39.0.\n"
          ]
        },
        {
          "output_type": "stream",
          "name": "stderr",
          "text": [
            "<ipython-input-108-fa33ee5f3a23>:18: FutureWarning: Series.__getitem__ treating keys as positions is deprecated. In a future version, integer keys will always be treated as labels (consistent with DataFrame behavior). To access a value by position, use `ser.iloc[pos]`\n",
            "  X_test = torch.tensor(df.iloc[i, 1:], dtype=torch.float32, device=device).reshape(1, -1)\n"
          ]
        },
        {
          "output_type": "stream",
          "name": "stdout",
          "text": [
            "Finished iteration 101\n",
            "pred = [[16.743439]], obs = 16.6071428571429.\n"
          ]
        },
        {
          "output_type": "stream",
          "name": "stderr",
          "text": [
            "<ipython-input-108-fa33ee5f3a23>:18: FutureWarning: Series.__getitem__ treating keys as positions is deprecated. In a future version, integer keys will always be treated as labels (consistent with DataFrame behavior). To access a value by position, use `ser.iloc[pos]`\n",
            "  X_test = torch.tensor(df.iloc[i, 1:], dtype=torch.float32, device=device).reshape(1, -1)\n"
          ]
        },
        {
          "output_type": "stream",
          "name": "stdout",
          "text": [
            "Finished iteration 102\n",
            "pred = [[21.75898]], obs = 21.9607843137255.\n"
          ]
        },
        {
          "output_type": "stream",
          "name": "stderr",
          "text": [
            "<ipython-input-108-fa33ee5f3a23>:18: FutureWarning: Series.__getitem__ treating keys as positions is deprecated. In a future version, integer keys will always be treated as labels (consistent with DataFrame behavior). To access a value by position, use `ser.iloc[pos]`\n",
            "  X_test = torch.tensor(df.iloc[i, 1:], dtype=torch.float32, device=device).reshape(1, -1)\n"
          ]
        },
        {
          "output_type": "stream",
          "name": "stdout",
          "text": [
            "Finished iteration 103\n",
            "pred = [[31.325718]], obs = 30.375.\n"
          ]
        },
        {
          "output_type": "stream",
          "name": "stderr",
          "text": [
            "<ipython-input-108-fa33ee5f3a23>:18: FutureWarning: Series.__getitem__ treating keys as positions is deprecated. In a future version, integer keys will always be treated as labels (consistent with DataFrame behavior). To access a value by position, use `ser.iloc[pos]`\n",
            "  X_test = torch.tensor(df.iloc[i, 1:], dtype=torch.float32, device=device).reshape(1, -1)\n"
          ]
        },
        {
          "output_type": "stream",
          "name": "stdout",
          "text": [
            "Finished iteration 104\n",
            "pred = [[30.96236]], obs = 31.6822429906542.\n"
          ]
        },
        {
          "output_type": "stream",
          "name": "stderr",
          "text": [
            "<ipython-input-108-fa33ee5f3a23>:18: FutureWarning: Series.__getitem__ treating keys as positions is deprecated. In a future version, integer keys will always be treated as labels (consistent with DataFrame behavior). To access a value by position, use `ser.iloc[pos]`\n",
            "  X_test = torch.tensor(df.iloc[i, 1:], dtype=torch.float32, device=device).reshape(1, -1)\n"
          ]
        },
        {
          "output_type": "stream",
          "name": "stdout",
          "text": [
            "Finished iteration 105\n",
            "pred = [[17.325031]], obs = 17.5925925925926.\n"
          ]
        },
        {
          "output_type": "stream",
          "name": "stderr",
          "text": [
            "<ipython-input-108-fa33ee5f3a23>:18: FutureWarning: Series.__getitem__ treating keys as positions is deprecated. In a future version, integer keys will always be treated as labels (consistent with DataFrame behavior). To access a value by position, use `ser.iloc[pos]`\n",
            "  X_test = torch.tensor(df.iloc[i, 1:], dtype=torch.float32, device=device).reshape(1, -1)\n"
          ]
        },
        {
          "output_type": "stream",
          "name": "stdout",
          "text": [
            "Finished iteration 106\n",
            "pred = [[33.642666]], obs = 33.8888888888889.\n"
          ]
        },
        {
          "output_type": "stream",
          "name": "stderr",
          "text": [
            "<ipython-input-108-fa33ee5f3a23>:18: FutureWarning: Series.__getitem__ treating keys as positions is deprecated. In a future version, integer keys will always be treated as labels (consistent with DataFrame behavior). To access a value by position, use `ser.iloc[pos]`\n",
            "  X_test = torch.tensor(df.iloc[i, 1:], dtype=torch.float32, device=device).reshape(1, -1)\n"
          ]
        },
        {
          "output_type": "stream",
          "name": "stdout",
          "text": [
            "Finished iteration 107\n",
            "pred = [[13.957635]], obs = 13.9204545454545.\n"
          ]
        },
        {
          "output_type": "stream",
          "name": "stderr",
          "text": [
            "<ipython-input-108-fa33ee5f3a23>:18: FutureWarning: Series.__getitem__ treating keys as positions is deprecated. In a future version, integer keys will always be treated as labels (consistent with DataFrame behavior). To access a value by position, use `ser.iloc[pos]`\n",
            "  X_test = torch.tensor(df.iloc[i, 1:], dtype=torch.float32, device=device).reshape(1, -1)\n"
          ]
        },
        {
          "output_type": "stream",
          "name": "stdout",
          "text": [
            "Finished iteration 108\n",
            "pred = [[28.52733]], obs = 28.4854771784232.\n"
          ]
        },
        {
          "output_type": "stream",
          "name": "stderr",
          "text": [
            "<ipython-input-108-fa33ee5f3a23>:18: FutureWarning: Series.__getitem__ treating keys as positions is deprecated. In a future version, integer keys will always be treated as labels (consistent with DataFrame behavior). To access a value by position, use `ser.iloc[pos]`\n",
            "  X_test = torch.tensor(df.iloc[i, 1:], dtype=torch.float32, device=device).reshape(1, -1)\n"
          ]
        },
        {
          "output_type": "stream",
          "name": "stdout",
          "text": [
            "Finished iteration 109\n",
            "pred = [[17.85477]], obs = 18.8297872340426.\n"
          ]
        },
        {
          "output_type": "stream",
          "name": "stderr",
          "text": [
            "<ipython-input-108-fa33ee5f3a23>:18: FutureWarning: Series.__getitem__ treating keys as positions is deprecated. In a future version, integer keys will always be treated as labels (consistent with DataFrame behavior). To access a value by position, use `ser.iloc[pos]`\n",
            "  X_test = torch.tensor(df.iloc[i, 1:], dtype=torch.float32, device=device).reshape(1, -1)\n"
          ]
        },
        {
          "output_type": "stream",
          "name": "stdout",
          "text": [
            "Finished iteration 110\n",
            "pred = [[22.673191]], obs = 22.7142857142857.\n"
          ]
        },
        {
          "output_type": "stream",
          "name": "stderr",
          "text": [
            "<ipython-input-108-fa33ee5f3a23>:18: FutureWarning: Series.__getitem__ treating keys as positions is deprecated. In a future version, integer keys will always be treated as labels (consistent with DataFrame behavior). To access a value by position, use `ser.iloc[pos]`\n",
            "  X_test = torch.tensor(df.iloc[i, 1:], dtype=torch.float32, device=device).reshape(1, -1)\n"
          ]
        },
        {
          "output_type": "stream",
          "name": "stdout",
          "text": [
            "Finished iteration 111\n",
            "pred = [[36.017662]], obs = 35.2564102564103.\n"
          ]
        },
        {
          "output_type": "stream",
          "name": "stderr",
          "text": [
            "<ipython-input-108-fa33ee5f3a23>:18: FutureWarning: Series.__getitem__ treating keys as positions is deprecated. In a future version, integer keys will always be treated as labels (consistent with DataFrame behavior). To access a value by position, use `ser.iloc[pos]`\n",
            "  X_test = torch.tensor(df.iloc[i, 1:], dtype=torch.float32, device=device).reshape(1, -1)\n"
          ]
        },
        {
          "output_type": "stream",
          "name": "stdout",
          "text": [
            "Finished iteration 112\n",
            "pred = [[13.1035185]], obs = 15.0.\n"
          ]
        },
        {
          "output_type": "stream",
          "name": "stderr",
          "text": [
            "<ipython-input-108-fa33ee5f3a23>:18: FutureWarning: Series.__getitem__ treating keys as positions is deprecated. In a future version, integer keys will always be treated as labels (consistent with DataFrame behavior). To access a value by position, use `ser.iloc[pos]`\n",
            "  X_test = torch.tensor(df.iloc[i, 1:], dtype=torch.float32, device=device).reshape(1, -1)\n"
          ]
        },
        {
          "output_type": "stream",
          "name": "stdout",
          "text": [
            "Finished iteration 113\n",
            "pred = [[9.3908]], obs = 9.0.\n"
          ]
        },
        {
          "output_type": "stream",
          "name": "stderr",
          "text": [
            "<ipython-input-108-fa33ee5f3a23>:18: FutureWarning: Series.__getitem__ treating keys as positions is deprecated. In a future version, integer keys will always be treated as labels (consistent with DataFrame behavior). To access a value by position, use `ser.iloc[pos]`\n",
            "  X_test = torch.tensor(df.iloc[i, 1:], dtype=torch.float32, device=device).reshape(1, -1)\n"
          ]
        },
        {
          "output_type": "stream",
          "name": "stdout",
          "text": [
            "Finished iteration 114\n",
            "pred = [[35.107403]], obs = 34.0.\n"
          ]
        },
        {
          "output_type": "stream",
          "name": "stderr",
          "text": [
            "<ipython-input-108-fa33ee5f3a23>:18: FutureWarning: Series.__getitem__ treating keys as positions is deprecated. In a future version, integer keys will always be treated as labels (consistent with DataFrame behavior). To access a value by position, use `ser.iloc[pos]`\n",
            "  X_test = torch.tensor(df.iloc[i, 1:], dtype=torch.float32, device=device).reshape(1, -1)\n"
          ]
        },
        {
          "output_type": "stream",
          "name": "stdout",
          "text": [
            "Finished iteration 115\n",
            "pred = [[35.482906]], obs = 35.0.\n"
          ]
        },
        {
          "output_type": "stream",
          "name": "stderr",
          "text": [
            "<ipython-input-108-fa33ee5f3a23>:18: FutureWarning: Series.__getitem__ treating keys as positions is deprecated. In a future version, integer keys will always be treated as labels (consistent with DataFrame behavior). To access a value by position, use `ser.iloc[pos]`\n",
            "  X_test = torch.tensor(df.iloc[i, 1:], dtype=torch.float32, device=device).reshape(1, -1)\n"
          ]
        },
        {
          "output_type": "stream",
          "name": "stdout",
          "text": [
            "Finished iteration 116\n",
            "pred = [[40.099335]], obs = 43.3333333333333.\n"
          ]
        },
        {
          "output_type": "stream",
          "name": "stderr",
          "text": [
            "<ipython-input-108-fa33ee5f3a23>:18: FutureWarning: Series.__getitem__ treating keys as positions is deprecated. In a future version, integer keys will always be treated as labels (consistent with DataFrame behavior). To access a value by position, use `ser.iloc[pos]`\n",
            "  X_test = torch.tensor(df.iloc[i, 1:], dtype=torch.float32, device=device).reshape(1, -1)\n"
          ]
        },
        {
          "output_type": "stream",
          "name": "stdout",
          "text": [
            "Finished iteration 117\n",
            "pred = [[37.180004]], obs = 35.0.\n"
          ]
        },
        {
          "output_type": "stream",
          "name": "stderr",
          "text": [
            "<ipython-input-108-fa33ee5f3a23>:18: FutureWarning: Series.__getitem__ treating keys as positions is deprecated. In a future version, integer keys will always be treated as labels (consistent with DataFrame behavior). To access a value by position, use `ser.iloc[pos]`\n",
            "  X_test = torch.tensor(df.iloc[i, 1:], dtype=torch.float32, device=device).reshape(1, -1)\n"
          ]
        },
        {
          "output_type": "stream",
          "name": "stdout",
          "text": [
            "Finished iteration 118\n",
            "pred = [[0.01977843]], obs = 0.0.\n"
          ]
        },
        {
          "output_type": "stream",
          "name": "stderr",
          "text": [
            "<ipython-input-108-fa33ee5f3a23>:18: FutureWarning: Series.__getitem__ treating keys as positions is deprecated. In a future version, integer keys will always be treated as labels (consistent with DataFrame behavior). To access a value by position, use `ser.iloc[pos]`\n",
            "  X_test = torch.tensor(df.iloc[i, 1:], dtype=torch.float32, device=device).reshape(1, -1)\n"
          ]
        },
        {
          "output_type": "stream",
          "name": "stdout",
          "text": [
            "Finished iteration 119\n",
            "pred = [[30.033024]], obs = 30.0.\n"
          ]
        },
        {
          "output_type": "stream",
          "name": "stderr",
          "text": [
            "<ipython-input-108-fa33ee5f3a23>:18: FutureWarning: Series.__getitem__ treating keys as positions is deprecated. In a future version, integer keys will always be treated as labels (consistent with DataFrame behavior). To access a value by position, use `ser.iloc[pos]`\n",
            "  X_test = torch.tensor(df.iloc[i, 1:], dtype=torch.float32, device=device).reshape(1, -1)\n"
          ]
        },
        {
          "output_type": "stream",
          "name": "stdout",
          "text": [
            "Finished iteration 120\n",
            "pred = [[1.0810721]], obs = 1.0.\n"
          ]
        },
        {
          "output_type": "stream",
          "name": "stderr",
          "text": [
            "<ipython-input-108-fa33ee5f3a23>:18: FutureWarning: Series.__getitem__ treating keys as positions is deprecated. In a future version, integer keys will always be treated as labels (consistent with DataFrame behavior). To access a value by position, use `ser.iloc[pos]`\n",
            "  X_test = torch.tensor(df.iloc[i, 1:], dtype=torch.float32, device=device).reshape(1, -1)\n"
          ]
        },
        {
          "output_type": "stream",
          "name": "stdout",
          "text": [
            "Finished iteration 121\n",
            "pred = [[0.9704885]], obs = 1.0.\n"
          ]
        },
        {
          "output_type": "stream",
          "name": "stderr",
          "text": [
            "<ipython-input-108-fa33ee5f3a23>:18: FutureWarning: Series.__getitem__ treating keys as positions is deprecated. In a future version, integer keys will always be treated as labels (consistent with DataFrame behavior). To access a value by position, use `ser.iloc[pos]`\n",
            "  X_test = torch.tensor(df.iloc[i, 1:], dtype=torch.float32, device=device).reshape(1, -1)\n"
          ]
        },
        {
          "output_type": "stream",
          "name": "stdout",
          "text": [
            "Finished iteration 122\n",
            "pred = [[39.46829]], obs = 36.6666666666667.\n"
          ]
        },
        {
          "output_type": "stream",
          "name": "stderr",
          "text": [
            "<ipython-input-108-fa33ee5f3a23>:18: FutureWarning: Series.__getitem__ treating keys as positions is deprecated. In a future version, integer keys will always be treated as labels (consistent with DataFrame behavior). To access a value by position, use `ser.iloc[pos]`\n",
            "  X_test = torch.tensor(df.iloc[i, 1:], dtype=torch.float32, device=device).reshape(1, -1)\n"
          ]
        },
        {
          "output_type": "stream",
          "name": "stdout",
          "text": [
            "Finished iteration 123\n",
            "pred = [[40.71964]], obs = 40.0.\n"
          ]
        },
        {
          "output_type": "stream",
          "name": "stderr",
          "text": [
            "<ipython-input-108-fa33ee5f3a23>:18: FutureWarning: Series.__getitem__ treating keys as positions is deprecated. In a future version, integer keys will always be treated as labels (consistent with DataFrame behavior). To access a value by position, use `ser.iloc[pos]`\n",
            "  X_test = torch.tensor(df.iloc[i, 1:], dtype=torch.float32, device=device).reshape(1, -1)\n"
          ]
        },
        {
          "output_type": "stream",
          "name": "stdout",
          "text": [
            "Finished iteration 124\n",
            "pred = [[22.213364]], obs = 22.5.\n"
          ]
        },
        {
          "output_type": "stream",
          "name": "stderr",
          "text": [
            "<ipython-input-108-fa33ee5f3a23>:18: FutureWarning: Series.__getitem__ treating keys as positions is deprecated. In a future version, integer keys will always be treated as labels (consistent with DataFrame behavior). To access a value by position, use `ser.iloc[pos]`\n",
            "  X_test = torch.tensor(df.iloc[i, 1:], dtype=torch.float32, device=device).reshape(1, -1)\n"
          ]
        },
        {
          "output_type": "stream",
          "name": "stdout",
          "text": [
            "Finished iteration 125\n",
            "pred = [[36.240547]], obs = 35.0.\n"
          ]
        },
        {
          "output_type": "stream",
          "name": "stderr",
          "text": [
            "<ipython-input-108-fa33ee5f3a23>:18: FutureWarning: Series.__getitem__ treating keys as positions is deprecated. In a future version, integer keys will always be treated as labels (consistent with DataFrame behavior). To access a value by position, use `ser.iloc[pos]`\n",
            "  X_test = torch.tensor(df.iloc[i, 1:], dtype=torch.float32, device=device).reshape(1, -1)\n"
          ]
        },
        {
          "output_type": "stream",
          "name": "stdout",
          "text": [
            "Finished iteration 126\n",
            "pred = [[34.737007]], obs = 34.0.\n"
          ]
        },
        {
          "output_type": "stream",
          "name": "stderr",
          "text": [
            "<ipython-input-108-fa33ee5f3a23>:18: FutureWarning: Series.__getitem__ treating keys as positions is deprecated. In a future version, integer keys will always be treated as labels (consistent with DataFrame behavior). To access a value by position, use `ser.iloc[pos]`\n",
            "  X_test = torch.tensor(df.iloc[i, 1:], dtype=torch.float32, device=device).reshape(1, -1)\n"
          ]
        },
        {
          "output_type": "stream",
          "name": "stdout",
          "text": [
            "Finished iteration 127\n",
            "pred = [[27.807283]], obs = 27.7777777777778.\n"
          ]
        },
        {
          "output_type": "stream",
          "name": "stderr",
          "text": [
            "<ipython-input-108-fa33ee5f3a23>:18: FutureWarning: Series.__getitem__ treating keys as positions is deprecated. In a future version, integer keys will always be treated as labels (consistent with DataFrame behavior). To access a value by position, use `ser.iloc[pos]`\n",
            "  X_test = torch.tensor(df.iloc[i, 1:], dtype=torch.float32, device=device).reshape(1, -1)\n"
          ]
        },
        {
          "output_type": "stream",
          "name": "stdout",
          "text": [
            "Finished iteration 128\n",
            "pred = [[30.828348]], obs = 31.0.\n"
          ]
        },
        {
          "output_type": "stream",
          "name": "stderr",
          "text": [
            "<ipython-input-108-fa33ee5f3a23>:18: FutureWarning: Series.__getitem__ treating keys as positions is deprecated. In a future version, integer keys will always be treated as labels (consistent with DataFrame behavior). To access a value by position, use `ser.iloc[pos]`\n",
            "  X_test = torch.tensor(df.iloc[i, 1:], dtype=torch.float32, device=device).reshape(1, -1)\n"
          ]
        },
        {
          "output_type": "stream",
          "name": "stdout",
          "text": [
            "Finished iteration 129\n",
            "pred = [[35.746014]], obs = 40.0.\n"
          ]
        },
        {
          "output_type": "stream",
          "name": "stderr",
          "text": [
            "<ipython-input-108-fa33ee5f3a23>:18: FutureWarning: Series.__getitem__ treating keys as positions is deprecated. In a future version, integer keys will always be treated as labels (consistent with DataFrame behavior). To access a value by position, use `ser.iloc[pos]`\n",
            "  X_test = torch.tensor(df.iloc[i, 1:], dtype=torch.float32, device=device).reshape(1, -1)\n"
          ]
        },
        {
          "output_type": "stream",
          "name": "stdout",
          "text": [
            "Finished iteration 130\n",
            "pred = [[19.911282]], obs = 20.0.\n"
          ]
        },
        {
          "output_type": "stream",
          "name": "stderr",
          "text": [
            "<ipython-input-108-fa33ee5f3a23>:18: FutureWarning: Series.__getitem__ treating keys as positions is deprecated. In a future version, integer keys will always be treated as labels (consistent with DataFrame behavior). To access a value by position, use `ser.iloc[pos]`\n",
            "  X_test = torch.tensor(df.iloc[i, 1:], dtype=torch.float32, device=device).reshape(1, -1)\n"
          ]
        },
        {
          "output_type": "stream",
          "name": "stdout",
          "text": [
            "Finished iteration 131\n",
            "pred = [[22.803205]], obs = 23.3333333333333.\n"
          ]
        },
        {
          "output_type": "stream",
          "name": "stderr",
          "text": [
            "<ipython-input-108-fa33ee5f3a23>:18: FutureWarning: Series.__getitem__ treating keys as positions is deprecated. In a future version, integer keys will always be treated as labels (consistent with DataFrame behavior). To access a value by position, use `ser.iloc[pos]`\n",
            "  X_test = torch.tensor(df.iloc[i, 1:], dtype=torch.float32, device=device).reshape(1, -1)\n"
          ]
        },
        {
          "output_type": "stream",
          "name": "stdout",
          "text": [
            "Finished iteration 132\n",
            "pred = [[23.071962]], obs = 22.7777777777778.\n"
          ]
        },
        {
          "output_type": "stream",
          "name": "stderr",
          "text": [
            "<ipython-input-108-fa33ee5f3a23>:18: FutureWarning: Series.__getitem__ treating keys as positions is deprecated. In a future version, integer keys will always be treated as labels (consistent with DataFrame behavior). To access a value by position, use `ser.iloc[pos]`\n",
            "  X_test = torch.tensor(df.iloc[i, 1:], dtype=torch.float32, device=device).reshape(1, -1)\n"
          ]
        },
        {
          "output_type": "stream",
          "name": "stdout",
          "text": [
            "Finished iteration 133\n",
            "pred = [[27.888483]], obs = 28.0.\n"
          ]
        },
        {
          "output_type": "stream",
          "name": "stderr",
          "text": [
            "<ipython-input-108-fa33ee5f3a23>:18: FutureWarning: Series.__getitem__ treating keys as positions is deprecated. In a future version, integer keys will always be treated as labels (consistent with DataFrame behavior). To access a value by position, use `ser.iloc[pos]`\n",
            "  X_test = torch.tensor(df.iloc[i, 1:], dtype=torch.float32, device=device).reshape(1, -1)\n"
          ]
        },
        {
          "output_type": "stream",
          "name": "stdout",
          "text": [
            "Finished iteration 134\n",
            "pred = [[20.421328]], obs = 20.0.\n"
          ]
        },
        {
          "output_type": "stream",
          "name": "stderr",
          "text": [
            "<ipython-input-108-fa33ee5f3a23>:18: FutureWarning: Series.__getitem__ treating keys as positions is deprecated. In a future version, integer keys will always be treated as labels (consistent with DataFrame behavior). To access a value by position, use `ser.iloc[pos]`\n",
            "  X_test = torch.tensor(df.iloc[i, 1:], dtype=torch.float32, device=device).reshape(1, -1)\n"
          ]
        },
        {
          "output_type": "stream",
          "name": "stdout",
          "text": [
            "Finished iteration 135\n",
            "pred = [[34.67568]], obs = 31.6666666666667.\n"
          ]
        },
        {
          "output_type": "stream",
          "name": "stderr",
          "text": [
            "<ipython-input-108-fa33ee5f3a23>:18: FutureWarning: Series.__getitem__ treating keys as positions is deprecated. In a future version, integer keys will always be treated as labels (consistent with DataFrame behavior). To access a value by position, use `ser.iloc[pos]`\n",
            "  X_test = torch.tensor(df.iloc[i, 1:], dtype=torch.float32, device=device).reshape(1, -1)\n"
          ]
        },
        {
          "output_type": "stream",
          "name": "stdout",
          "text": [
            "Finished iteration 136\n",
            "pred = [[10.124828]], obs = 10.0.\n"
          ]
        },
        {
          "output_type": "stream",
          "name": "stderr",
          "text": [
            "<ipython-input-108-fa33ee5f3a23>:18: FutureWarning: Series.__getitem__ treating keys as positions is deprecated. In a future version, integer keys will always be treated as labels (consistent with DataFrame behavior). To access a value by position, use `ser.iloc[pos]`\n",
            "  X_test = torch.tensor(df.iloc[i, 1:], dtype=torch.float32, device=device).reshape(1, -1)\n"
          ]
        },
        {
          "output_type": "stream",
          "name": "stdout",
          "text": [
            "Finished iteration 137\n",
            "pred = [[16.725792]], obs = 16.6666666666667.\n"
          ]
        },
        {
          "output_type": "stream",
          "name": "stderr",
          "text": [
            "<ipython-input-108-fa33ee5f3a23>:18: FutureWarning: Series.__getitem__ treating keys as positions is deprecated. In a future version, integer keys will always be treated as labels (consistent with DataFrame behavior). To access a value by position, use `ser.iloc[pos]`\n",
            "  X_test = torch.tensor(df.iloc[i, 1:], dtype=torch.float32, device=device).reshape(1, -1)\n"
          ]
        },
        {
          "output_type": "stream",
          "name": "stdout",
          "text": [
            "Finished iteration 138\n",
            "pred = [[39.963333]], obs = 40.0.\n"
          ]
        },
        {
          "output_type": "stream",
          "name": "stderr",
          "text": [
            "<ipython-input-108-fa33ee5f3a23>:18: FutureWarning: Series.__getitem__ treating keys as positions is deprecated. In a future version, integer keys will always be treated as labels (consistent with DataFrame behavior). To access a value by position, use `ser.iloc[pos]`\n",
            "  X_test = torch.tensor(df.iloc[i, 1:], dtype=torch.float32, device=device).reshape(1, -1)\n"
          ]
        },
        {
          "output_type": "stream",
          "name": "stdout",
          "text": [
            "Finished iteration 139\n",
            "pred = [[35.05803]], obs = 35.0.\n"
          ]
        },
        {
          "output_type": "stream",
          "name": "stderr",
          "text": [
            "<ipython-input-108-fa33ee5f3a23>:18: FutureWarning: Series.__getitem__ treating keys as positions is deprecated. In a future version, integer keys will always be treated as labels (consistent with DataFrame behavior). To access a value by position, use `ser.iloc[pos]`\n",
            "  X_test = torch.tensor(df.iloc[i, 1:], dtype=torch.float32, device=device).reshape(1, -1)\n"
          ]
        },
        {
          "output_type": "stream",
          "name": "stdout",
          "text": [
            "Finished iteration 140\n",
            "pred = [[28.809744]], obs = 30.0.\n"
          ]
        },
        {
          "output_type": "stream",
          "name": "stderr",
          "text": [
            "<ipython-input-108-fa33ee5f3a23>:18: FutureWarning: Series.__getitem__ treating keys as positions is deprecated. In a future version, integer keys will always be treated as labels (consistent with DataFrame behavior). To access a value by position, use `ser.iloc[pos]`\n",
            "  X_test = torch.tensor(df.iloc[i, 1:], dtype=torch.float32, device=device).reshape(1, -1)\n"
          ]
        },
        {
          "output_type": "stream",
          "name": "stdout",
          "text": [
            "Finished iteration 141\n",
            "pred = [[33.538033]], obs = 35.0.\n"
          ]
        },
        {
          "output_type": "stream",
          "name": "stderr",
          "text": [
            "<ipython-input-108-fa33ee5f3a23>:18: FutureWarning: Series.__getitem__ treating keys as positions is deprecated. In a future version, integer keys will always be treated as labels (consistent with DataFrame behavior). To access a value by position, use `ser.iloc[pos]`\n",
            "  X_test = torch.tensor(df.iloc[i, 1:], dtype=torch.float32, device=device).reshape(1, -1)\n"
          ]
        },
        {
          "output_type": "stream",
          "name": "stdout",
          "text": [
            "Finished iteration 142\n",
            "pred = [[30.081879]], obs = 30.0.\n"
          ]
        },
        {
          "output_type": "stream",
          "name": "stderr",
          "text": [
            "<ipython-input-108-fa33ee5f3a23>:18: FutureWarning: Series.__getitem__ treating keys as positions is deprecated. In a future version, integer keys will always be treated as labels (consistent with DataFrame behavior). To access a value by position, use `ser.iloc[pos]`\n",
            "  X_test = torch.tensor(df.iloc[i, 1:], dtype=torch.float32, device=device).reshape(1, -1)\n"
          ]
        },
        {
          "output_type": "stream",
          "name": "stdout",
          "text": [
            "Finished iteration 143\n",
            "pred = [[34.947094]], obs = 35.0.\n"
          ]
        },
        {
          "output_type": "stream",
          "name": "stderr",
          "text": [
            "<ipython-input-108-fa33ee5f3a23>:18: FutureWarning: Series.__getitem__ treating keys as positions is deprecated. In a future version, integer keys will always be treated as labels (consistent with DataFrame behavior). To access a value by position, use `ser.iloc[pos]`\n",
            "  X_test = torch.tensor(df.iloc[i, 1:], dtype=torch.float32, device=device).reshape(1, -1)\n"
          ]
        },
        {
          "output_type": "stream",
          "name": "stdout",
          "text": [
            "Finished iteration 144\n",
            "pred = [[15.062503]], obs = 15.0.\n"
          ]
        },
        {
          "output_type": "stream",
          "name": "stderr",
          "text": [
            "<ipython-input-108-fa33ee5f3a23>:18: FutureWarning: Series.__getitem__ treating keys as positions is deprecated. In a future version, integer keys will always be treated as labels (consistent with DataFrame behavior). To access a value by position, use `ser.iloc[pos]`\n",
            "  X_test = torch.tensor(df.iloc[i, 1:], dtype=torch.float32, device=device).reshape(1, -1)\n"
          ]
        },
        {
          "output_type": "stream",
          "name": "stdout",
          "text": [
            "Finished iteration 145\n",
            "pred = [[32.27326]], obs = 32.3684210526316.\n"
          ]
        },
        {
          "output_type": "stream",
          "name": "stderr",
          "text": [
            "<ipython-input-108-fa33ee5f3a23>:18: FutureWarning: Series.__getitem__ treating keys as positions is deprecated. In a future version, integer keys will always be treated as labels (consistent with DataFrame behavior). To access a value by position, use `ser.iloc[pos]`\n",
            "  X_test = torch.tensor(df.iloc[i, 1:], dtype=torch.float32, device=device).reshape(1, -1)\n"
          ]
        },
        {
          "output_type": "stream",
          "name": "stdout",
          "text": [
            "Finished iteration 146\n",
            "pred = [[31.641302]], obs = 31.6666666666667.\n"
          ]
        },
        {
          "output_type": "stream",
          "name": "stderr",
          "text": [
            "<ipython-input-108-fa33ee5f3a23>:18: FutureWarning: Series.__getitem__ treating keys as positions is deprecated. In a future version, integer keys will always be treated as labels (consistent with DataFrame behavior). To access a value by position, use `ser.iloc[pos]`\n",
            "  X_test = torch.tensor(df.iloc[i, 1:], dtype=torch.float32, device=device).reshape(1, -1)\n"
          ]
        },
        {
          "output_type": "stream",
          "name": "stdout",
          "text": [
            "Finished iteration 147\n",
            "pred = [[0.01373304]], obs = 0.0.\n"
          ]
        },
        {
          "output_type": "stream",
          "name": "stderr",
          "text": [
            "<ipython-input-108-fa33ee5f3a23>:18: FutureWarning: Series.__getitem__ treating keys as positions is deprecated. In a future version, integer keys will always be treated as labels (consistent with DataFrame behavior). To access a value by position, use `ser.iloc[pos]`\n",
            "  X_test = torch.tensor(df.iloc[i, 1:], dtype=torch.float32, device=device).reshape(1, -1)\n"
          ]
        },
        {
          "output_type": "stream",
          "name": "stdout",
          "text": [
            "Finished iteration 148\n",
            "pred = [[-0.01782665]], obs = 0.0.\n"
          ]
        },
        {
          "output_type": "stream",
          "name": "stderr",
          "text": [
            "<ipython-input-108-fa33ee5f3a23>:18: FutureWarning: Series.__getitem__ treating keys as positions is deprecated. In a future version, integer keys will always be treated as labels (consistent with DataFrame behavior). To access a value by position, use `ser.iloc[pos]`\n",
            "  X_test = torch.tensor(df.iloc[i, 1:], dtype=torch.float32, device=device).reshape(1, -1)\n"
          ]
        },
        {
          "output_type": "stream",
          "name": "stdout",
          "text": [
            "Finished iteration 149\n",
            "pred = [[0.25879472]], obs = 0.259259259259259.\n"
          ]
        },
        {
          "output_type": "stream",
          "name": "stderr",
          "text": [
            "<ipython-input-108-fa33ee5f3a23>:18: FutureWarning: Series.__getitem__ treating keys as positions is deprecated. In a future version, integer keys will always be treated as labels (consistent with DataFrame behavior). To access a value by position, use `ser.iloc[pos]`\n",
            "  X_test = torch.tensor(df.iloc[i, 1:], dtype=torch.float32, device=device).reshape(1, -1)\n"
          ]
        },
        {
          "output_type": "stream",
          "name": "stdout",
          "text": [
            "Finished iteration 150\n",
            "pred = [[0.5384269]], obs = 0.545454545454545.\n"
          ]
        },
        {
          "output_type": "stream",
          "name": "stderr",
          "text": [
            "<ipython-input-108-fa33ee5f3a23>:18: FutureWarning: Series.__getitem__ treating keys as positions is deprecated. In a future version, integer keys will always be treated as labels (consistent with DataFrame behavior). To access a value by position, use `ser.iloc[pos]`\n",
            "  X_test = torch.tensor(df.iloc[i, 1:], dtype=torch.float32, device=device).reshape(1, -1)\n"
          ]
        },
        {
          "output_type": "stream",
          "name": "stdout",
          "text": [
            "Finished iteration 151\n",
            "pred = [[26.568628]], obs = 26.6666666666667.\n"
          ]
        },
        {
          "output_type": "stream",
          "name": "stderr",
          "text": [
            "<ipython-input-108-fa33ee5f3a23>:18: FutureWarning: Series.__getitem__ treating keys as positions is deprecated. In a future version, integer keys will always be treated as labels (consistent with DataFrame behavior). To access a value by position, use `ser.iloc[pos]`\n",
            "  X_test = torch.tensor(df.iloc[i, 1:], dtype=torch.float32, device=device).reshape(1, -1)\n"
          ]
        },
        {
          "output_type": "stream",
          "name": "stdout",
          "text": [
            "Finished iteration 152\n",
            "pred = [[32.227722]], obs = 32.0.\n"
          ]
        },
        {
          "output_type": "stream",
          "name": "stderr",
          "text": [
            "<ipython-input-108-fa33ee5f3a23>:18: FutureWarning: Series.__getitem__ treating keys as positions is deprecated. In a future version, integer keys will always be treated as labels (consistent with DataFrame behavior). To access a value by position, use `ser.iloc[pos]`\n",
            "  X_test = torch.tensor(df.iloc[i, 1:], dtype=torch.float32, device=device).reshape(1, -1)\n"
          ]
        },
        {
          "output_type": "stream",
          "name": "stdout",
          "text": [
            "Finished iteration 153\n",
            "pred = [[22.869106]], obs = 22.8571428571429.\n"
          ]
        },
        {
          "output_type": "stream",
          "name": "stderr",
          "text": [
            "<ipython-input-108-fa33ee5f3a23>:18: FutureWarning: Series.__getitem__ treating keys as positions is deprecated. In a future version, integer keys will always be treated as labels (consistent with DataFrame behavior). To access a value by position, use `ser.iloc[pos]`\n",
            "  X_test = torch.tensor(df.iloc[i, 1:], dtype=torch.float32, device=device).reshape(1, -1)\n"
          ]
        },
        {
          "output_type": "stream",
          "name": "stdout",
          "text": [
            "Finished iteration 154\n",
            "pred = [[33.66002]], obs = 33.6206896551724.\n"
          ]
        },
        {
          "output_type": "stream",
          "name": "stderr",
          "text": [
            "<ipython-input-108-fa33ee5f3a23>:18: FutureWarning: Series.__getitem__ treating keys as positions is deprecated. In a future version, integer keys will always be treated as labels (consistent with DataFrame behavior). To access a value by position, use `ser.iloc[pos]`\n",
            "  X_test = torch.tensor(df.iloc[i, 1:], dtype=torch.float32, device=device).reshape(1, -1)\n"
          ]
        },
        {
          "output_type": "stream",
          "name": "stdout",
          "text": [
            "Finished iteration 155\n",
            "pred = [[35.046627]], obs = 35.1818181818182.\n"
          ]
        },
        {
          "output_type": "stream",
          "name": "stderr",
          "text": [
            "<ipython-input-108-fa33ee5f3a23>:18: FutureWarning: Series.__getitem__ treating keys as positions is deprecated. In a future version, integer keys will always be treated as labels (consistent with DataFrame behavior). To access a value by position, use `ser.iloc[pos]`\n",
            "  X_test = torch.tensor(df.iloc[i, 1:], dtype=torch.float32, device=device).reshape(1, -1)\n"
          ]
        },
        {
          "output_type": "stream",
          "name": "stdout",
          "text": [
            "Finished iteration 156\n",
            "pred = [[28.047377]], obs = 28.0.\n"
          ]
        },
        {
          "output_type": "stream",
          "name": "stderr",
          "text": [
            "<ipython-input-108-fa33ee5f3a23>:18: FutureWarning: Series.__getitem__ treating keys as positions is deprecated. In a future version, integer keys will always be treated as labels (consistent with DataFrame behavior). To access a value by position, use `ser.iloc[pos]`\n",
            "  X_test = torch.tensor(df.iloc[i, 1:], dtype=torch.float32, device=device).reshape(1, -1)\n"
          ]
        },
        {
          "output_type": "stream",
          "name": "stdout",
          "text": [
            "Finished iteration 157\n",
            "pred = [[19.673252]], obs = 19.6428571428571.\n"
          ]
        },
        {
          "output_type": "stream",
          "name": "stderr",
          "text": [
            "<ipython-input-108-fa33ee5f3a23>:18: FutureWarning: Series.__getitem__ treating keys as positions is deprecated. In a future version, integer keys will always be treated as labels (consistent with DataFrame behavior). To access a value by position, use `ser.iloc[pos]`\n",
            "  X_test = torch.tensor(df.iloc[i, 1:], dtype=torch.float32, device=device).reshape(1, -1)\n"
          ]
        },
        {
          "output_type": "stream",
          "name": "stdout",
          "text": [
            "Finished iteration 158\n",
            "pred = [[9.958458]], obs = 10.0.\n"
          ]
        },
        {
          "output_type": "stream",
          "name": "stderr",
          "text": [
            "<ipython-input-108-fa33ee5f3a23>:18: FutureWarning: Series.__getitem__ treating keys as positions is deprecated. In a future version, integer keys will always be treated as labels (consistent with DataFrame behavior). To access a value by position, use `ser.iloc[pos]`\n",
            "  X_test = torch.tensor(df.iloc[i, 1:], dtype=torch.float32, device=device).reshape(1, -1)\n"
          ]
        },
        {
          "output_type": "stream",
          "name": "stdout",
          "text": [
            "Finished iteration 159\n",
            "pred = [[20.16426]], obs = 20.0.\n"
          ]
        },
        {
          "output_type": "stream",
          "name": "stderr",
          "text": [
            "<ipython-input-108-fa33ee5f3a23>:18: FutureWarning: Series.__getitem__ treating keys as positions is deprecated. In a future version, integer keys will always be treated as labels (consistent with DataFrame behavior). To access a value by position, use `ser.iloc[pos]`\n",
            "  X_test = torch.tensor(df.iloc[i, 1:], dtype=torch.float32, device=device).reshape(1, -1)\n"
          ]
        },
        {
          "output_type": "stream",
          "name": "stdout",
          "text": [
            "Finished iteration 160\n",
            "pred = [[-0.00090328]], obs = 0.0.\n"
          ]
        },
        {
          "output_type": "stream",
          "name": "stderr",
          "text": [
            "<ipython-input-108-fa33ee5f3a23>:18: FutureWarning: Series.__getitem__ treating keys as positions is deprecated. In a future version, integer keys will always be treated as labels (consistent with DataFrame behavior). To access a value by position, use `ser.iloc[pos]`\n",
            "  X_test = torch.tensor(df.iloc[i, 1:], dtype=torch.float32, device=device).reshape(1, -1)\n"
          ]
        },
        {
          "output_type": "stream",
          "name": "stdout",
          "text": [
            "Finished iteration 161\n",
            "pred = [[0.00586575]], obs = 0.0.\n"
          ]
        },
        {
          "output_type": "stream",
          "name": "stderr",
          "text": [
            "<ipython-input-108-fa33ee5f3a23>:18: FutureWarning: Series.__getitem__ treating keys as positions is deprecated. In a future version, integer keys will always be treated as labels (consistent with DataFrame behavior). To access a value by position, use `ser.iloc[pos]`\n",
            "  X_test = torch.tensor(df.iloc[i, 1:], dtype=torch.float32, device=device).reshape(1, -1)\n"
          ]
        },
        {
          "output_type": "stream",
          "name": "stdout",
          "text": [
            "Finished iteration 162\n",
            "pred = [[30.012867]], obs = 30.0.\n"
          ]
        },
        {
          "output_type": "stream",
          "name": "stderr",
          "text": [
            "<ipython-input-108-fa33ee5f3a23>:18: FutureWarning: Series.__getitem__ treating keys as positions is deprecated. In a future version, integer keys will always be treated as labels (consistent with DataFrame behavior). To access a value by position, use `ser.iloc[pos]`\n",
            "  X_test = torch.tensor(df.iloc[i, 1:], dtype=torch.float32, device=device).reshape(1, -1)\n"
          ]
        },
        {
          "output_type": "stream",
          "name": "stdout",
          "text": [
            "Finished iteration 163\n",
            "pred = [[9.986412]], obs = 10.0.\n"
          ]
        }
      ]
    },
    {
      "cell_type": "code",
      "source": [
        "print(len(pred))\n",
        "print(len(df))\n",
        "\n",
        "y_t = df.iloc[0:164, 0].values\n",
        "y_p = [\n",
        "    x\n",
        "    for xs in pred\n",
        "    for x in xs\n",
        "]\n",
        "\n",
        "print(y_t)\n",
        "print(y_p)\n",
        "\n",
        "r2 = r2_score(y_t, y_p)\n",
        "print(\"R^2 score: %.2f\" % r2)\n"
      ],
      "metadata": {
        "id": "J6XR6k6YBRkB",
        "colab": {
          "base_uri": "https://localhost:8080/"
        },
        "outputId": "d1ca67bc-a339-4096-b3cf-ee3791165a5c"
      },
      "execution_count": 120,
      "outputs": [
        {
          "output_type": "stream",
          "name": "stdout",
          "text": [
            "164\n",
            "164\n",
            "[10.         31.66666667 35.18518519 50.07633588 35.         47.5\n",
            " 52.43243243 48.66666667 35.55555556 51.11111111 35.09803922 39.10714286\n",
            " 43.80952381 25.13888889 46.66666667 43.75       45.88235294 50.\n",
            " 52.8125     24.21052632 28.94230769 35.53333333 43.40277778 39.8241206\n",
            " 32.75280899 27.38095238 39.48598131 53.90977444 33.57142857 30.\n",
            " 45.         41.5        31.08108108  8.57142857 15.         19.16666667\n",
            "  0.06493506 11.9047619  13.33333333 22.         30.         33.17982456\n",
            " 15.         26.66666667 20.26315789 30.         35.61904762 20.\n",
            " 20.         20.          0.60606061 33.14814815 17.45867769 24.04255319\n",
            " 11.80555556 11.22641509 30.63492063 28.0952381  23.         20.\n",
            " 14.63768116 18.57142857 15.83333333 20.16883117 27.2556391  26.42857143\n",
            " 14.         17.17948718 16.93181818 37.5        26.83823529  5.\n",
            "  5.64516129 26.31578947 22.75862069  9.         10.          5.\n",
            "  4.44444444  4.24242424 36.71875    50.         16.11111111 22.\n",
            " 40.         26.81818182 28.         25.13513514 31.59090909 40.90909091\n",
            " 37.77777778 35.21126761 39.94444444 39.1509434  27.89473684 42.27272727\n",
            " 35.26315789 40.41666667 29.22535211 34.87341772 39.         16.60714286\n",
            " 21.96078431 30.375      31.68224299 17.59259259 33.88888889 13.92045455\n",
            " 28.48547718 18.82978723 22.71428571 35.25641026 15.          9.\n",
            " 34.         35.         43.33333333 35.          0.         30.\n",
            "  1.          1.         36.66666667 40.         22.5        35.\n",
            " 34.         27.77777778 31.         40.         20.         23.33333333\n",
            " 22.77777778 28.         20.         31.66666667 10.         16.66666667\n",
            " 40.         35.         30.         35.         30.         35.\n",
            " 15.         32.36842105 31.66666667  0.          0.          0.25925926\n",
            "  0.54545455 26.66666667 32.         22.85714286 33.62068966 35.18181818\n",
            " 28.         19.64285714 10.         20.          0.          0.\n",
            " 30.         10.        ]\n",
            "[array([22.948816], dtype=float32), array([29.702911], dtype=float32), array([35.486973], dtype=float32), array([36.766193], dtype=float32), array([23.677101], dtype=float32), array([41.91807], dtype=float32), array([44.758846], dtype=float32), array([44.540386], dtype=float32), array([36.403336], dtype=float32), array([42.070316], dtype=float32), array([30.481852], dtype=float32), array([32.991653], dtype=float32), array([47.70544], dtype=float32), array([26.287004], dtype=float32), array([33.051807], dtype=float32), array([38.972588], dtype=float32), array([49.862278], dtype=float32), array([34.03013], dtype=float32), array([36.137516], dtype=float32), array([36.1118], dtype=float32), array([39.34979], dtype=float32), array([42.076607], dtype=float32), array([45.014095], dtype=float32), array([39.096493], dtype=float32), array([35.59122], dtype=float32), array([34.00432], dtype=float32), array([36.062454], dtype=float32), array([51.19619], dtype=float32), array([33.923298], dtype=float32), array([34.34486], dtype=float32), array([45.676197], dtype=float32), array([39.72083], dtype=float32), array([31.283455], dtype=float32), array([13.133097], dtype=float32), array([17.013346], dtype=float32), array([17.90513], dtype=float32), array([0.6802553], dtype=float32), array([12.737853], dtype=float32), array([14.721996], dtype=float32), array([20.372725], dtype=float32), array([24.674707], dtype=float32), array([28.67089], dtype=float32), array([11.713288], dtype=float32), array([31.661743], dtype=float32), array([17.93122], dtype=float32), array([29.688057], dtype=float32), array([31.997404], dtype=float32), array([14.271171], dtype=float32), array([20.889296], dtype=float32), array([27.034054], dtype=float32), array([0.12013642], dtype=float32), array([32.380608], dtype=float32), array([18.578827], dtype=float32), array([23.804682], dtype=float32), array([9.046685], dtype=float32), array([11.003364], dtype=float32), array([29.94188], dtype=float32), array([28.293283], dtype=float32), array([23.266237], dtype=float32), array([19.552654], dtype=float32), array([14.205103], dtype=float32), array([20.688366], dtype=float32), array([18.204329], dtype=float32), array([22.897987], dtype=float32), array([28.213484], dtype=float32), array([26.853344], dtype=float32), array([17.41508], dtype=float32), array([17.24789], dtype=float32), array([16.656088], dtype=float32), array([31.12816], dtype=float32), array([31.982464], dtype=float32), array([5.0018687], dtype=float32), array([5.528624], dtype=float32), array([25.977783], dtype=float32), array([23.197344], dtype=float32), array([9.021882], dtype=float32), array([9.917509], dtype=float32), array([5.023044], dtype=float32), array([4.42249], dtype=float32), array([4.248961], dtype=float32), array([39.087563], dtype=float32), array([45.707916], dtype=float32), array([19.090696], dtype=float32), array([21.185797], dtype=float32), array([41.203197], dtype=float32), array([26.544437], dtype=float32), array([28.126232], dtype=float32), array([24.245804], dtype=float32), array([32.251194], dtype=float32), array([41.074936], dtype=float32), array([37.855145], dtype=float32), array([35.005665], dtype=float32), array([40.268173], dtype=float32), array([37.302597], dtype=float32), array([28.25441], dtype=float32), array([42.870983], dtype=float32), array([36.481617], dtype=float32), array([39.77838], dtype=float32), array([29.199259], dtype=float32), array([34.98104], dtype=float32), array([38.915886], dtype=float32), array([16.743439], dtype=float32), array([21.75898], dtype=float32), array([31.325718], dtype=float32), array([30.96236], dtype=float32), array([17.325031], dtype=float32), array([33.642666], dtype=float32), array([13.957635], dtype=float32), array([28.52733], dtype=float32), array([17.85477], dtype=float32), array([22.673191], dtype=float32), array([36.017662], dtype=float32), array([13.1035185], dtype=float32), array([9.3908], dtype=float32), array([35.107403], dtype=float32), array([35.482906], dtype=float32), array([40.099335], dtype=float32), array([37.180004], dtype=float32), array([0.01977843], dtype=float32), array([30.033024], dtype=float32), array([1.0810721], dtype=float32), array([0.9704885], dtype=float32), array([39.46829], dtype=float32), array([40.71964], dtype=float32), array([22.213364], dtype=float32), array([36.240547], dtype=float32), array([34.737007], dtype=float32), array([27.807283], dtype=float32), array([30.828348], dtype=float32), array([35.746014], dtype=float32), array([19.911282], dtype=float32), array([22.803205], dtype=float32), array([23.071962], dtype=float32), array([27.888483], dtype=float32), array([20.421328], dtype=float32), array([34.67568], dtype=float32), array([10.124828], dtype=float32), array([16.725792], dtype=float32), array([39.963333], dtype=float32), array([35.05803], dtype=float32), array([28.809744], dtype=float32), array([33.538033], dtype=float32), array([30.081879], dtype=float32), array([34.947094], dtype=float32), array([15.062503], dtype=float32), array([32.27326], dtype=float32), array([31.641302], dtype=float32), array([0.01373304], dtype=float32), array([-0.01782665], dtype=float32), array([0.25879472], dtype=float32), array([0.5384269], dtype=float32), array([26.568628], dtype=float32), array([32.227722], dtype=float32), array([22.869106], dtype=float32), array([33.66002], dtype=float32), array([35.046627], dtype=float32), array([28.047377], dtype=float32), array([19.673252], dtype=float32), array([9.958458], dtype=float32), array([20.16426], dtype=float32), array([-0.00090328], dtype=float32), array([0.00586575], dtype=float32), array([30.012867], dtype=float32), array([9.986412], dtype=float32)]\n",
            "R^2 score: 0.92\n"
          ]
        }
      ]
    },
    {
      "cell_type": "code",
      "source": [
        "plt.figure(figsize=(8, 6))\n",
        "plt.scatter(y_t, y_p, alpha=0.5)\n",
        "plt.xlabel('Observed Values')\n",
        "plt.ylabel('Predicted Values')\n",
        "plt.title('ANN leave-one-out cross-validation')\n",
        "plt.plot([y_t.min(), y_t.max()], [y_t.min(), y_t.max()], 'k--', lw=2) # Add a diagonal line\n",
        "plt.grid(True)\n",
        "plt.text(42, 5, \"R^2 = 0.92\", fontdict=None)"
      ],
      "metadata": {
        "colab": {
          "base_uri": "https://localhost:8080/",
          "height": 580
        },
        "id": "7i3XWmhDMAVm",
        "outputId": "28fea653-5a35-488b-8e13-a8d5316ab5bb"
      },
      "execution_count": 128,
      "outputs": [
        {
          "output_type": "execute_result",
          "data": {
            "text/plain": [
              "Text(42, 5, 'R^2 = 0.92')"
            ]
          },
          "metadata": {},
          "execution_count": 128
        },
        {
          "output_type": "display_data",
          "data": {
            "text/plain": [
              "<Figure size 800x600 with 1 Axes>"
            ],
            "image/png": "[encoded data removed]"
          },
          "metadata": {}
        }
      ]
    },
    {
      "cell_type": "code",
      "source": [
        "plt.savefig('/content/drive/My Drive/CUDA/foam_height_predicted_vs_observed_LOO.png')"
      ],
      "metadata": {
        "id": "j-2_Q51jOCl5",
        "colab": {
          "base_uri": "https://localhost:8080/",
          "height": 32
        },
        "outputId": "88c449c5-8a00-470c-febc-bea11bbf7d58"
      },
      "execution_count": 129,
      "outputs": [
        {
          "output_type": "display_data",
          "data": {
            "text/plain": [
              "<Figure size 640x480 with 0 Axes>"
            ]
          },
          "metadata": {}
        }
      ]
    },
    {
      "cell_type": "code",
      "source": [],
      "metadata": {
        "id": "Coz5rZyERkDC"
      },
      "execution_count": null,
      "outputs": []
    }
  ]
}